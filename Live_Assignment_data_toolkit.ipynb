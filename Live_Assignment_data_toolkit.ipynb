{
 "cells": [
  {
   "cell_type": "markdown",
   "metadata": {},
   "source": [
    "## 1.Demonstrate three different methods for creating identical 2D arrays in NumPy Provide the code for each method and the final output after each method"
   ]
  },
  {
   "cell_type": "code",
   "execution_count": 1,
   "metadata": {},
   "outputs": [
    {
     "name": "stdout",
     "output_type": "stream",
     "text": [
      "output: [[1 2 3]\n",
      " [4 5 6]\n",
      " [7 8 9]]\n"
     ]
    }
   ],
   "source": [
    "## Method 1: Using np.array()\n",
    "\n",
    "import numpy as np\n",
    "array_1 = np.array([[1,2,3],[4,5,6],[7,8,9]])\n",
    "print(\"output:\",array_1)"
   ]
  },
  {
   "cell_type": "code",
   "execution_count": 2,
   "metadata": {},
   "outputs": [
    {
     "data": {
      "text/plain": [
       "array([[1, 2, 3],\n",
       "       [4, 5, 6],\n",
       "       [7, 8, 9]])"
      ]
     },
     "execution_count": 2,
     "metadata": {},
     "output_type": "execute_result"
    }
   ],
   "source": [
    "## Method 2 : using nummpy zeros() and filling values\n",
    "array_2 = np.zeros((3,3),dtype=int)\n",
    "array_2[0] = [1,2,3]\n",
    "array_2[1] = [4,5,6]\n",
    "array_2[2] = [7,8,9]\n",
    "array_2"
   ]
  },
  {
   "cell_type": "code",
   "execution_count": 3,
   "metadata": {},
   "outputs": [
    {
     "name": "stdout",
     "output_type": "stream",
     "text": [
      "[[1 2 3]\n",
      " [4 5 6]\n",
      " [7 8 9]]\n"
     ]
    }
   ],
   "source": [
    "## Method 3: Using np.full() with a template\n",
    "array_template = np.array([[1,2,3],[4,5,6],[7,8,9]])\n",
    "array_3 = np.full((3,3),0)# initialize with zeros\n",
    "np.copyto(array_3,array_template)\n",
    "print(array_3)"
   ]
  },
  {
   "cell_type": "markdown",
   "metadata": {},
   "source": [
    "## 2.Using the Numpy function, generate an array of 100 evenly spaced numbers between 1 and 10 and Reshape that 1D array into a 2D array"
   ]
  },
  {
   "cell_type": "code",
   "execution_count": 4,
   "metadata": {},
   "outputs": [
    {
     "name": "stdout",
     "output_type": "stream",
     "text": [
      "array of the shape : (100,)\n",
      "array_1d: [ 1.          1.09090909  1.18181818  1.27272727  1.36363636  1.45454545\n",
      "  1.54545455  1.63636364  1.72727273  1.81818182  1.90909091  2.\n",
      "  2.09090909  2.18181818  2.27272727  2.36363636  2.45454545  2.54545455\n",
      "  2.63636364  2.72727273  2.81818182  2.90909091  3.          3.09090909\n",
      "  3.18181818  3.27272727  3.36363636  3.45454545  3.54545455  3.63636364\n",
      "  3.72727273  3.81818182  3.90909091  4.          4.09090909  4.18181818\n",
      "  4.27272727  4.36363636  4.45454545  4.54545455  4.63636364  4.72727273\n",
      "  4.81818182  4.90909091  5.          5.09090909  5.18181818  5.27272727\n",
      "  5.36363636  5.45454545  5.54545455  5.63636364  5.72727273  5.81818182\n",
      "  5.90909091  6.          6.09090909  6.18181818  6.27272727  6.36363636\n",
      "  6.45454545  6.54545455  6.63636364  6.72727273  6.81818182  6.90909091\n",
      "  7.          7.09090909  7.18181818  7.27272727  7.36363636  7.45454545\n",
      "  7.54545455  7.63636364  7.72727273  7.81818182  7.90909091  8.\n",
      "  8.09090909  8.18181818  8.27272727  8.36363636  8.45454545  8.54545455\n",
      "  8.63636364  8.72727273  8.81818182  8.90909091  9.          9.09090909\n",
      "  9.18181818  9.27272727  9.36363636  9.45454545  9.54545455  9.63636364\n",
      "  9.72727273  9.81818182  9.90909091 10.        ]\n",
      "array of the shape: (4, 25)\n",
      "array_2d: [[ 1.          1.09090909  1.18181818  1.27272727  1.36363636  1.45454545\n",
      "   1.54545455  1.63636364  1.72727273  1.81818182  1.90909091  2.\n",
      "   2.09090909  2.18181818  2.27272727  2.36363636  2.45454545  2.54545455\n",
      "   2.63636364  2.72727273  2.81818182  2.90909091  3.          3.09090909\n",
      "   3.18181818]\n",
      " [ 3.27272727  3.36363636  3.45454545  3.54545455  3.63636364  3.72727273\n",
      "   3.81818182  3.90909091  4.          4.09090909  4.18181818  4.27272727\n",
      "   4.36363636  4.45454545  4.54545455  4.63636364  4.72727273  4.81818182\n",
      "   4.90909091  5.          5.09090909  5.18181818  5.27272727  5.36363636\n",
      "   5.45454545]\n",
      " [ 5.54545455  5.63636364  5.72727273  5.81818182  5.90909091  6.\n",
      "   6.09090909  6.18181818  6.27272727  6.36363636  6.45454545  6.54545455\n",
      "   6.63636364  6.72727273  6.81818182  6.90909091  7.          7.09090909\n",
      "   7.18181818  7.27272727  7.36363636  7.45454545  7.54545455  7.63636364\n",
      "   7.72727273]\n",
      " [ 7.81818182  7.90909091  8.          8.09090909  8.18181818  8.27272727\n",
      "   8.36363636  8.45454545  8.54545455  8.63636364  8.72727273  8.81818182\n",
      "   8.90909091  9.          9.09090909  9.18181818  9.27272727  9.36363636\n",
      "   9.45454545  9.54545455  9.63636364  9.72727273  9.81818182  9.90909091\n",
      "  10.        ]]\n"
     ]
    }
   ],
   "source": [
    "import numpy as np\n",
    "\n",
    "# Step 1: Generate an array of 12 evenly spaced numbers between 1 and 24\n",
    "array_1d = np.linspace(1,10,100)\n",
    "\n",
    "# Step 2: Reshape the 1D array into a 2D array with 3rows and 4 columns\n",
    "array_2d = array_1d.reshape((4,25))\n",
    "\n",
    "print(\"array of the shape :\",array_1d.shape)\n",
    "print('array_1d:',array_1d)\n",
    "\n",
    "print(\"array of the shape:\",array_2d.shape)\n",
    "print('array_2d:',array_2d)"
   ]
  },
  {
   "cell_type": "markdown",
   "metadata": {},
   "source": [
    "## 3.Explain the following terms:\n"
   ]
  },
  {
   "cell_type": "markdown",
   "metadata": {},
   "source": [
    "### 3(a)The difference in np.array, np.asarray and np.asanyarray.\n"
   ]
  },
  {
   "cell_type": "code",
   "execution_count": 5,
   "metadata": {},
   "outputs": [
    {
     "name": "stdout",
     "output_type": "stream",
     "text": [
      "[1 2 3]\n"
     ]
    }
   ],
   "source": [
    "# np.array()\n",
    "import numpy as np\n",
    "list_data = [1,2,3]\n",
    "array = np.array(list_data)\n",
    "print(array)\n"
   ]
  },
  {
   "cell_type": "code",
   "execution_count": 6,
   "metadata": {},
   "outputs": [
    {
     "name": "stdout",
     "output_type": "stream",
     "text": [
      "[1 2 3]\n"
     ]
    }
   ],
   "source": [
    "# np.asarray()\n",
    "list_data = [1,2,3]\n",
    "array = np.asarray(list_data)\n",
    "print(array)"
   ]
  },
  {
   "cell_type": "code",
   "execution_count": 7,
   "metadata": {},
   "outputs": [
    {
     "data": {
      "text/plain": [
       "masked_array(data=[1, --, 3],\n",
       "             mask=[False,  True, False],\n",
       "       fill_value=999999)"
      ]
     },
     "execution_count": 7,
     "metadata": {},
     "output_type": "execute_result"
    }
   ],
   "source": [
    "import numpy as np\n",
    "import numpy.ma as ma\n",
    "\n",
    "masked_array = ma.array([1, 2, 3], mask=[0, 1, 0])\n",
    "array = np.asanyarray(masked_array)\n",
    "array\n"
   ]
  },
  {
   "cell_type": "markdown",
   "metadata": {},
   "source": [
    "### 3(b) Difference Between Deep Copy and Shallow Copy"
   ]
  },
  {
   "cell_type": "code",
   "execution_count": 8,
   "metadata": {},
   "outputs": [
    {
     "name": "stdout",
     "output_type": "stream",
     "text": [
      "Original: [[99, 2, 3], [4, 5, 6]]\n",
      "shallow copy: [[99, 2, 3], [4, 5, 6]]\n"
     ]
    }
   ],
   "source": [
    "# Shallow copy\n",
    "import copy\n",
    "original = [[1,2,3],[4,5,6]]\n",
    "shallow_copy = copy.copy(original)\n",
    "shallow_copy[0][0] = 99\n",
    "\n",
    "print('Original:',original)\n",
    "print('shallow copy:',shallow_copy)"
   ]
  },
  {
   "cell_type": "code",
   "execution_count": 9,
   "metadata": {},
   "outputs": [
    {
     "name": "stdout",
     "output_type": "stream",
     "text": [
      "Original: [[1, 2, 3], [4, 5, 6]]\n",
      "Deep copy: [[99, 2, 3], [4, 5, 6]]\n"
     ]
    }
   ],
   "source": [
    "# Deep copy\n",
    "\n",
    "import copy\n",
    "original = [[1,2,3],[4,5,6]]\n",
    "deep_copy = copy.deepcopy(original)\n",
    "deep_copy[0][0] = 99\n",
    "\n",
    "print('Original:',original)\n",
    "print('Deep copy:',deep_copy)"
   ]
  },
  {
   "cell_type": "markdown",
   "metadata": {},
   "source": [
    "## 4.Generate a 3*3 array with random floating-point numbers between 5 and 20. Then, round each number in the array to 2 decimal places."
   ]
  },
  {
   "cell_type": "code",
   "execution_count": 10,
   "metadata": {},
   "outputs": [
    {
     "name": "stdout",
     "output_type": "stream",
     "text": [
      "[[13.06 16.54  5.12]\n",
      " [19.6  14.74  8.18]\n",
      " [16.01 18.98 11.13]]\n"
     ]
    }
   ],
   "source": [
    "import numpy as np\n",
    "\n",
    "# Generate a 3*3 array with random floating-point numbers between 5 and 20\n",
    "random_array = np.random.uniform(5,20,size=(3,3))\n",
    "\n",
    "# Round each number in the array to 2 decimal places\n",
    "rounded_array  = np.round(random_array,2)\n",
    "\n",
    "print(rounded_array)"
   ]
  },
  {
   "cell_type": "markdown",
   "metadata": {},
   "source": [
    "## 5.Create a NumPy array with random integers between 1 and 10 of shape (5,6 ).After creating the array perform the following operations:\n",
    "### (a)Extract all even integers from array.\n",
    "### (b)Extract all odd integers from array"
   ]
  },
  {
   "cell_type": "code",
   "execution_count": 11,
   "metadata": {},
   "outputs": [
    {
     "name": "stdout",
     "output_type": "stream",
     "text": [
      "Original Array:\n",
      "[[ 4  2  1  2  9  6]\n",
      " [ 3  4  6 10  6  1]\n",
      " [ 7  7  4 10  3  1]\n",
      " [ 5  2  2  8  6  8]\n",
      " [ 3  8  1  3  5 10]]\n",
      "\n",
      "Even Integers:\n",
      "[ 4  2  2  6  4  6 10  6  4 10  2  2  8  6  8  8 10]\n",
      "\n",
      "Odd Integers:\n",
      "[1 9 3 1 7 7 3 1 5 3 1 3 5]\n"
     ]
    }
   ],
   "source": [
    "import numpy as np \n",
    "# Create a numpy array with random integers between 1 and 10 of shape (5,6)\n",
    "random_array = np.random.randint(1,11,size=(5,6))\n",
    "\n",
    "print(\"Original Array:\")\n",
    "print(random_array)\n",
    "\n",
    "#Extract all even integers from the array\n",
    "even_integers = random_array[random_array % 2 == 0]\n",
    "\n",
    "#Extract all odd integers from the array\n",
    "odd_integers = random_array[random_array % 2 != 0]\n",
    "\n",
    "\n",
    "print(\"\\nEven Integers:\")\n",
    "print(even_integers)\n",
    "\n",
    "print(\"\\nOdd Integers:\")\n",
    "print(odd_integers)"
   ]
  },
  {
   "cell_type": "markdown",
   "metadata": {},
   "source": [
    "## 6.Create a 3d NumPy array of shape (3, 3, 3) containing random integers between 1 and 10 Perform the following operations:\n",
    "\n",
    "### (a) Find the indices of the maximum values along each depth level (third axis).\n",
    "\n",
    "### (b) Perform element-wise multiplication of between both array"
   ]
  },
  {
   "cell_type": "code",
   "execution_count": 12,
   "metadata": {},
   "outputs": [
    {
     "name": "stdout",
     "output_type": "stream",
     "text": [
      "Original Array:\n",
      "[[[10  8  2]\n",
      "  [ 4  3 10]\n",
      "  [ 4  8  5]]\n",
      "\n",
      " [[ 4  3  2]\n",
      "  [ 1  6  5]\n",
      "  [ 1  6 10]]\n",
      "\n",
      " [[ 9  3  3]\n",
      "  [10 10  4]\n",
      "  [ 7  7  7]]]\n",
      "\n",
      "Indices of maximum values along each depth level:\n",
      "[[0 2 1]\n",
      " [0 1 2]\n",
      " [0 0 0]]\n",
      "\n",
      "Element-wise multiplication between both arrays:\n",
      "[[[100  64   4]\n",
      "  [ 16   9 100]\n",
      "  [ 16  64  25]]\n",
      "\n",
      " [[ 16   9   4]\n",
      "  [  1  36  25]\n",
      "  [  1  36 100]]\n",
      "\n",
      " [[ 81   9   9]\n",
      "  [100 100  16]\n",
      "  [ 49  49  49]]]\n"
     ]
    }
   ],
   "source": [
    "import numpy as np\n",
    "\n",
    "# Creating a 3D numpy array of shape (3,3,3) containing random integers between 1 and 10\n",
    "random_array = np.random.randint(1,11,size=(3,3,3))\n",
    "\n",
    "print(\"Original Array:\")\n",
    "print(random_array)\n",
    "\n",
    "# (a) Find the indices of the maximum values along each depth level (third axis)\n",
    "max_indices = np.argmax(random_array,axis=2)\n",
    "\n",
    "print(\"\\nIndices of maximum values along each depth level:\")\n",
    "print(max_indices)\n",
    "\n",
    "# (b) Perform element-wise multiplication between both arrays\n",
    "element_wise_multiplication = random_array*random_array\n",
    "\n",
    "print(\"\\nElement-wise multiplication between both arrays:\")\n",
    "print(element_wise_multiplication)\n"
   ]
  },
  {
   "cell_type": "markdown",
   "metadata": {},
   "source": [
    "## 7. Clean and transform the 'Phone' column in the sample dataset to remove non-numeric characters and convert it to a numeric data type. Also display the table attributes and data types of each column."
   ]
  },
  {
   "cell_type": "code",
   "execution_count": 13,
   "metadata": {},
   "outputs": [
    {
     "name": "stdout",
     "output_type": "stream",
     "text": [
      "Original dataframe:\n"
     ]
    },
    {
     "data": {
      "text/html": [
       "<div>\n",
       "<style scoped>\n",
       "    .dataframe tbody tr th:only-of-type {\n",
       "        vertical-align: middle;\n",
       "    }\n",
       "\n",
       "    .dataframe tbody tr th {\n",
       "        vertical-align: top;\n",
       "    }\n",
       "\n",
       "    .dataframe thead th {\n",
       "        text-align: right;\n",
       "    }\n",
       "</style>\n",
       "<table border=\"1\" class=\"dataframe\">\n",
       "  <thead>\n",
       "    <tr style=\"text-align: right;\">\n",
       "      <th></th>\n",
       "      <th>Index</th>\n",
       "      <th>User Id</th>\n",
       "      <th>First Name</th>\n",
       "      <th>Last Name</th>\n",
       "      <th>Gender</th>\n",
       "      <th>Email</th>\n",
       "      <th>Phone</th>\n",
       "      <th>Date of birth</th>\n",
       "      <th>Job Title</th>\n",
       "      <th>Salary</th>\n",
       "    </tr>\n",
       "  </thead>\n",
       "  <tbody>\n",
       "    <tr>\n",
       "      <th>0</th>\n",
       "      <td>1</td>\n",
       "      <td>8717bbf45cCDbEe</td>\n",
       "      <td>Shelia</td>\n",
       "      <td>Mahoney</td>\n",
       "      <td>Male</td>\n",
       "      <td>pwarner@example.org</td>\n",
       "      <td>857.139.8239</td>\n",
       "      <td>27-01-2014</td>\n",
       "      <td>Probation officer</td>\n",
       "      <td>90000</td>\n",
       "    </tr>\n",
       "    <tr>\n",
       "      <th>1</th>\n",
       "      <td>2</td>\n",
       "      <td>3d5AD30A4cD38ed</td>\n",
       "      <td>Jo</td>\n",
       "      <td>Rivers</td>\n",
       "      <td>Female</td>\n",
       "      <td>fergusonkatherine@example.net</td>\n",
       "      <td>NaN</td>\n",
       "      <td>26-07-1931</td>\n",
       "      <td>Dancer</td>\n",
       "      <td>80000</td>\n",
       "    </tr>\n",
       "    <tr>\n",
       "      <th>2</th>\n",
       "      <td>3</td>\n",
       "      <td>810Ce0F276Badec</td>\n",
       "      <td>Sheryl</td>\n",
       "      <td>Lowery</td>\n",
       "      <td>Female</td>\n",
       "      <td>fhoward@example.org</td>\n",
       "      <td>(599)782-0605</td>\n",
       "      <td>25-11-2013</td>\n",
       "      <td>Copy</td>\n",
       "      <td>50000</td>\n",
       "    </tr>\n",
       "    <tr>\n",
       "      <th>3</th>\n",
       "      <td>4</td>\n",
       "      <td>BF2a889C00f0cE1</td>\n",
       "      <td>Whitney</td>\n",
       "      <td>Hooper</td>\n",
       "      <td>Male</td>\n",
       "      <td>zjohnston@example.com</td>\n",
       "      <td>NaN</td>\n",
       "      <td>17-11-2012</td>\n",
       "      <td>Counselling psychologist</td>\n",
       "      <td>65000</td>\n",
       "    </tr>\n",
       "    <tr>\n",
       "      <th>4</th>\n",
       "      <td>5</td>\n",
       "      <td>9afFEafAe1CBBB9</td>\n",
       "      <td>Lindsey</td>\n",
       "      <td>Rice</td>\n",
       "      <td>Female</td>\n",
       "      <td>elin@example.net</td>\n",
       "      <td>(390)417-1635x3010</td>\n",
       "      <td>15-04-1923</td>\n",
       "      <td>Biomedical engineer</td>\n",
       "      <td>100000</td>\n",
       "    </tr>\n",
       "    <tr>\n",
       "      <th>...</th>\n",
       "      <td>...</td>\n",
       "      <td>...</td>\n",
       "      <td>...</td>\n",
       "      <td>...</td>\n",
       "      <td>...</td>\n",
       "      <td>...</td>\n",
       "      <td>...</td>\n",
       "      <td>...</td>\n",
       "      <td>...</td>\n",
       "      <td>...</td>\n",
       "    </tr>\n",
       "    <tr>\n",
       "      <th>995</th>\n",
       "      <td>996</td>\n",
       "      <td>fedF4c7Fd9e7cFa</td>\n",
       "      <td>Kurt</td>\n",
       "      <td>Bryant</td>\n",
       "      <td>Female</td>\n",
       "      <td>lyonsdaisy@example.net</td>\n",
       "      <td>021.775.2933</td>\n",
       "      <td>05-01-1959</td>\n",
       "      <td>Personnel officer</td>\n",
       "      <td>90000</td>\n",
       "    </tr>\n",
       "    <tr>\n",
       "      <th>996</th>\n",
       "      <td>997</td>\n",
       "      <td>ECddaFEDdEc4FAB</td>\n",
       "      <td>Donna</td>\n",
       "      <td>Barry</td>\n",
       "      <td>Female</td>\n",
       "      <td>dariusbryan@example.com</td>\n",
       "      <td>001-149-710-7799x721</td>\n",
       "      <td>06-10-2001</td>\n",
       "      <td>Education administrator</td>\n",
       "      <td>50000</td>\n",
       "    </tr>\n",
       "    <tr>\n",
       "      <th>997</th>\n",
       "      <td>998</td>\n",
       "      <td>2adde51d8B8979E</td>\n",
       "      <td>Cathy</td>\n",
       "      <td>Mckinney</td>\n",
       "      <td>Female</td>\n",
       "      <td>georgechan@example.org</td>\n",
       "      <td>+1-750-774-4128x33265</td>\n",
       "      <td>13-05-1918</td>\n",
       "      <td>Commercial/residential surveyor</td>\n",
       "      <td>60000</td>\n",
       "    </tr>\n",
       "    <tr>\n",
       "      <th>998</th>\n",
       "      <td>999</td>\n",
       "      <td>Fb2FE369D1E171A</td>\n",
       "      <td>Jermaine</td>\n",
       "      <td>Phelps</td>\n",
       "      <td>Male</td>\n",
       "      <td>wanda04@example.net</td>\n",
       "      <td>(915)292-2254</td>\n",
       "      <td>31-08-1971</td>\n",
       "      <td>Ambulance person</td>\n",
       "      <td>100000</td>\n",
       "    </tr>\n",
       "    <tr>\n",
       "      <th>999</th>\n",
       "      <td>1000</td>\n",
       "      <td>8b756f6231DDC6e</td>\n",
       "      <td>Lee</td>\n",
       "      <td>Tran</td>\n",
       "      <td>Female</td>\n",
       "      <td>deannablack@example.org</td>\n",
       "      <td>079.752.5424x67259</td>\n",
       "      <td>24-01-1947</td>\n",
       "      <td>Nurse, learning disability</td>\n",
       "      <td>90000</td>\n",
       "    </tr>\n",
       "  </tbody>\n",
       "</table>\n",
       "<p>1000 rows × 10 columns</p>\n",
       "</div>"
      ],
      "text/plain": [
       "     Index          User Id First Name Last Name  Gender  \\\n",
       "0        1  8717bbf45cCDbEe     Shelia   Mahoney    Male   \n",
       "1        2  3d5AD30A4cD38ed         Jo    Rivers  Female   \n",
       "2        3  810Ce0F276Badec     Sheryl    Lowery  Female   \n",
       "3        4  BF2a889C00f0cE1    Whitney    Hooper    Male   \n",
       "4        5  9afFEafAe1CBBB9    Lindsey      Rice  Female   \n",
       "..     ...              ...        ...       ...     ...   \n",
       "995    996  fedF4c7Fd9e7cFa       Kurt    Bryant  Female   \n",
       "996    997  ECddaFEDdEc4FAB      Donna     Barry  Female   \n",
       "997    998  2adde51d8B8979E      Cathy  Mckinney  Female   \n",
       "998    999  Fb2FE369D1E171A   Jermaine    Phelps    Male   \n",
       "999   1000  8b756f6231DDC6e        Lee      Tran  Female   \n",
       "\n",
       "                             Email                  Phone Date of birth  \\\n",
       "0              pwarner@example.org           857.139.8239    27-01-2014   \n",
       "1    fergusonkatherine@example.net                    NaN    26-07-1931   \n",
       "2              fhoward@example.org          (599)782-0605    25-11-2013   \n",
       "3            zjohnston@example.com                    NaN    17-11-2012   \n",
       "4                 elin@example.net     (390)417-1635x3010    15-04-1923   \n",
       "..                             ...                    ...           ...   \n",
       "995         lyonsdaisy@example.net           021.775.2933    05-01-1959   \n",
       "996        dariusbryan@example.com   001-149-710-7799x721    06-10-2001   \n",
       "997         georgechan@example.org  +1-750-774-4128x33265    13-05-1918   \n",
       "998            wanda04@example.net          (915)292-2254    31-08-1971   \n",
       "999        deannablack@example.org     079.752.5424x67259    24-01-1947   \n",
       "\n",
       "                           Job Title  Salary  \n",
       "0                  Probation officer   90000  \n",
       "1                             Dancer   80000  \n",
       "2                               Copy   50000  \n",
       "3           Counselling psychologist   65000  \n",
       "4                Biomedical engineer  100000  \n",
       "..                               ...     ...  \n",
       "995                Personnel officer   90000  \n",
       "996          Education administrator   50000  \n",
       "997  Commercial/residential surveyor   60000  \n",
       "998                 Ambulance person  100000  \n",
       "999       Nurse, learning disability   90000  \n",
       "\n",
       "[1000 rows x 10 columns]"
      ]
     },
     "execution_count": 13,
     "metadata": {},
     "output_type": "execute_result"
    }
   ],
   "source": [
    "import pandas as pd\n",
    "import re \n",
    "\n",
    "# loading the dataset\n",
    "df = pd.read_csv(\"C:/Users/praja/Downloads/People Data.csv\")\n",
    "print('Original dataframe:')\n",
    "df"
   ]
  },
  {
   "cell_type": "code",
   "execution_count": 14,
   "metadata": {},
   "outputs": [
    {
     "data": {
      "text/plain": [
       "21"
      ]
     },
     "execution_count": 14,
     "metadata": {},
     "output_type": "execute_result"
    }
   ],
   "source": [
    "# checking for null values in the  phone columns\n",
    "df['Phone'].isnull().sum()"
   ]
  },
  {
   "cell_type": "code",
   "execution_count": 15,
   "metadata": {},
   "outputs": [],
   "source": [
    "# removing the null values in the phone columns\n",
    "df = df.dropna(subset=['Phone'])"
   ]
  },
  {
   "cell_type": "code",
   "execution_count": 16,
   "metadata": {},
   "outputs": [
    {
     "data": {
      "text/plain": [
       "0"
      ]
     },
     "execution_count": 16,
     "metadata": {},
     "output_type": "execute_result"
    }
   ],
   "source": [
    "df['Phone'].isnull().sum()"
   ]
  },
  {
   "cell_type": "code",
   "execution_count": 17,
   "metadata": {},
   "outputs": [
    {
     "name": "stderr",
     "output_type": "stream",
     "text": [
      "C:\\Users\\praja\\AppData\\Local\\Temp\\ipykernel_2756\\1088609426.py:2: SettingWithCopyWarning: \n",
      "A value is trying to be set on a copy of a slice from a DataFrame.\n",
      "Try using .loc[row_indexer,col_indexer] = value instead\n",
      "\n",
      "See the caveats in the documentation: https://pandas.pydata.org/pandas-docs/stable/user_guide/indexing.html#returning-a-view-versus-a-copy\n",
      "  df['Phone'] = df['Phone'].apply(lambda x: re.sub(r'\\D','',x))\n",
      "C:\\Users\\praja\\AppData\\Local\\Temp\\ipykernel_2756\\1088609426.py:5: SettingWithCopyWarning: \n",
      "A value is trying to be set on a copy of a slice from a DataFrame.\n",
      "Try using .loc[row_indexer,col_indexer] = value instead\n",
      "\n",
      "See the caveats in the documentation: https://pandas.pydata.org/pandas-docs/stable/user_guide/indexing.html#returning-a-view-versus-a-copy\n",
      "  df['Phone'] = pd.to_numeric(df['Phone'])\n"
     ]
    }
   ],
   "source": [
    "# Cleaning the phone columns to remove non-numeric characters\n",
    "df['Phone'] = df['Phone'].apply(lambda x: re.sub(r'\\D','',x))\n",
    "\n",
    "#Converting the phone column to a numeric data type\n",
    "df['Phone'] = pd.to_numeric(df['Phone'])"
   ]
  },
  {
   "cell_type": "code",
   "execution_count": 18,
   "metadata": {},
   "outputs": [
    {
     "name": "stdout",
     "output_type": "stream",
     "text": [
      "\n",
      "Cleaned Dataframe:\n"
     ]
    },
    {
     "data": {
      "text/html": [
       "<div>\n",
       "<style scoped>\n",
       "    .dataframe tbody tr th:only-of-type {\n",
       "        vertical-align: middle;\n",
       "    }\n",
       "\n",
       "    .dataframe tbody tr th {\n",
       "        vertical-align: top;\n",
       "    }\n",
       "\n",
       "    .dataframe thead th {\n",
       "        text-align: right;\n",
       "    }\n",
       "</style>\n",
       "<table border=\"1\" class=\"dataframe\">\n",
       "  <thead>\n",
       "    <tr style=\"text-align: right;\">\n",
       "      <th></th>\n",
       "      <th>Index</th>\n",
       "      <th>User Id</th>\n",
       "      <th>First Name</th>\n",
       "      <th>Last Name</th>\n",
       "      <th>Gender</th>\n",
       "      <th>Email</th>\n",
       "      <th>Phone</th>\n",
       "      <th>Date of birth</th>\n",
       "      <th>Job Title</th>\n",
       "      <th>Salary</th>\n",
       "    </tr>\n",
       "  </thead>\n",
       "  <tbody>\n",
       "    <tr>\n",
       "      <th>0</th>\n",
       "      <td>1</td>\n",
       "      <td>8717bbf45cCDbEe</td>\n",
       "      <td>Shelia</td>\n",
       "      <td>Mahoney</td>\n",
       "      <td>Male</td>\n",
       "      <td>pwarner@example.org</td>\n",
       "      <td>8571398239</td>\n",
       "      <td>27-01-2014</td>\n",
       "      <td>Probation officer</td>\n",
       "      <td>90000</td>\n",
       "    </tr>\n",
       "    <tr>\n",
       "      <th>2</th>\n",
       "      <td>3</td>\n",
       "      <td>810Ce0F276Badec</td>\n",
       "      <td>Sheryl</td>\n",
       "      <td>Lowery</td>\n",
       "      <td>Female</td>\n",
       "      <td>fhoward@example.org</td>\n",
       "      <td>5997820605</td>\n",
       "      <td>25-11-2013</td>\n",
       "      <td>Copy</td>\n",
       "      <td>50000</td>\n",
       "    </tr>\n",
       "    <tr>\n",
       "      <th>4</th>\n",
       "      <td>5</td>\n",
       "      <td>9afFEafAe1CBBB9</td>\n",
       "      <td>Lindsey</td>\n",
       "      <td>Rice</td>\n",
       "      <td>Female</td>\n",
       "      <td>elin@example.net</td>\n",
       "      <td>39041716353010</td>\n",
       "      <td>15-04-1923</td>\n",
       "      <td>Biomedical engineer</td>\n",
       "      <td>100000</td>\n",
       "    </tr>\n",
       "    <tr>\n",
       "      <th>5</th>\n",
       "      <td>6</td>\n",
       "      <td>aF75e6dDEBC5b66</td>\n",
       "      <td>Sherry</td>\n",
       "      <td>Caldwell</td>\n",
       "      <td>Male</td>\n",
       "      <td>kaitlin13@example.net</td>\n",
       "      <td>8537800927</td>\n",
       "      <td>06-08-1917</td>\n",
       "      <td>Higher education lecturer</td>\n",
       "      <td>50000</td>\n",
       "    </tr>\n",
       "    <tr>\n",
       "      <th>6</th>\n",
       "      <td>7</td>\n",
       "      <td>efeb05c7Cc94EA3</td>\n",
       "      <td>Ernest</td>\n",
       "      <td>Hoffman</td>\n",
       "      <td>Male</td>\n",
       "      <td>jeffharvey@example.com</td>\n",
       "      <td>9365574807895</td>\n",
       "      <td>22-12-1984</td>\n",
       "      <td>Health visitor</td>\n",
       "      <td>60000</td>\n",
       "    </tr>\n",
       "    <tr>\n",
       "      <th>...</th>\n",
       "      <td>...</td>\n",
       "      <td>...</td>\n",
       "      <td>...</td>\n",
       "      <td>...</td>\n",
       "      <td>...</td>\n",
       "      <td>...</td>\n",
       "      <td>...</td>\n",
       "      <td>...</td>\n",
       "      <td>...</td>\n",
       "      <td>...</td>\n",
       "    </tr>\n",
       "    <tr>\n",
       "      <th>995</th>\n",
       "      <td>996</td>\n",
       "      <td>fedF4c7Fd9e7cFa</td>\n",
       "      <td>Kurt</td>\n",
       "      <td>Bryant</td>\n",
       "      <td>Female</td>\n",
       "      <td>lyonsdaisy@example.net</td>\n",
       "      <td>217752933</td>\n",
       "      <td>05-01-1959</td>\n",
       "      <td>Personnel officer</td>\n",
       "      <td>90000</td>\n",
       "    </tr>\n",
       "    <tr>\n",
       "      <th>996</th>\n",
       "      <td>997</td>\n",
       "      <td>ECddaFEDdEc4FAB</td>\n",
       "      <td>Donna</td>\n",
       "      <td>Barry</td>\n",
       "      <td>Female</td>\n",
       "      <td>dariusbryan@example.com</td>\n",
       "      <td>11497107799721</td>\n",
       "      <td>06-10-2001</td>\n",
       "      <td>Education administrator</td>\n",
       "      <td>50000</td>\n",
       "    </tr>\n",
       "    <tr>\n",
       "      <th>997</th>\n",
       "      <td>998</td>\n",
       "      <td>2adde51d8B8979E</td>\n",
       "      <td>Cathy</td>\n",
       "      <td>Mckinney</td>\n",
       "      <td>Female</td>\n",
       "      <td>georgechan@example.org</td>\n",
       "      <td>1750774412833265</td>\n",
       "      <td>13-05-1918</td>\n",
       "      <td>Commercial/residential surveyor</td>\n",
       "      <td>60000</td>\n",
       "    </tr>\n",
       "    <tr>\n",
       "      <th>998</th>\n",
       "      <td>999</td>\n",
       "      <td>Fb2FE369D1E171A</td>\n",
       "      <td>Jermaine</td>\n",
       "      <td>Phelps</td>\n",
       "      <td>Male</td>\n",
       "      <td>wanda04@example.net</td>\n",
       "      <td>9152922254</td>\n",
       "      <td>31-08-1971</td>\n",
       "      <td>Ambulance person</td>\n",
       "      <td>100000</td>\n",
       "    </tr>\n",
       "    <tr>\n",
       "      <th>999</th>\n",
       "      <td>1000</td>\n",
       "      <td>8b756f6231DDC6e</td>\n",
       "      <td>Lee</td>\n",
       "      <td>Tran</td>\n",
       "      <td>Female</td>\n",
       "      <td>deannablack@example.org</td>\n",
       "      <td>79752542467259</td>\n",
       "      <td>24-01-1947</td>\n",
       "      <td>Nurse, learning disability</td>\n",
       "      <td>90000</td>\n",
       "    </tr>\n",
       "  </tbody>\n",
       "</table>\n",
       "<p>979 rows × 10 columns</p>\n",
       "</div>"
      ],
      "text/plain": [
       "     Index          User Id First Name Last Name  Gender  \\\n",
       "0        1  8717bbf45cCDbEe     Shelia   Mahoney    Male   \n",
       "2        3  810Ce0F276Badec     Sheryl    Lowery  Female   \n",
       "4        5  9afFEafAe1CBBB9    Lindsey      Rice  Female   \n",
       "5        6  aF75e6dDEBC5b66     Sherry  Caldwell    Male   \n",
       "6        7  efeb05c7Cc94EA3     Ernest   Hoffman    Male   \n",
       "..     ...              ...        ...       ...     ...   \n",
       "995    996  fedF4c7Fd9e7cFa       Kurt    Bryant  Female   \n",
       "996    997  ECddaFEDdEc4FAB      Donna     Barry  Female   \n",
       "997    998  2adde51d8B8979E      Cathy  Mckinney  Female   \n",
       "998    999  Fb2FE369D1E171A   Jermaine    Phelps    Male   \n",
       "999   1000  8b756f6231DDC6e        Lee      Tran  Female   \n",
       "\n",
       "                       Email             Phone Date of birth  \\\n",
       "0        pwarner@example.org        8571398239    27-01-2014   \n",
       "2        fhoward@example.org        5997820605    25-11-2013   \n",
       "4           elin@example.net    39041716353010    15-04-1923   \n",
       "5      kaitlin13@example.net        8537800927    06-08-1917   \n",
       "6     jeffharvey@example.com     9365574807895    22-12-1984   \n",
       "..                       ...               ...           ...   \n",
       "995   lyonsdaisy@example.net         217752933    05-01-1959   \n",
       "996  dariusbryan@example.com    11497107799721    06-10-2001   \n",
       "997   georgechan@example.org  1750774412833265    13-05-1918   \n",
       "998      wanda04@example.net        9152922254    31-08-1971   \n",
       "999  deannablack@example.org    79752542467259    24-01-1947   \n",
       "\n",
       "                           Job Title  Salary  \n",
       "0                  Probation officer   90000  \n",
       "2                               Copy   50000  \n",
       "4                Biomedical engineer  100000  \n",
       "5          Higher education lecturer   50000  \n",
       "6                     Health visitor   60000  \n",
       "..                               ...     ...  \n",
       "995                Personnel officer   90000  \n",
       "996          Education administrator   50000  \n",
       "997  Commercial/residential surveyor   60000  \n",
       "998                 Ambulance person  100000  \n",
       "999       Nurse, learning disability   90000  \n",
       "\n",
       "[979 rows x 10 columns]"
      ]
     },
     "execution_count": 18,
     "metadata": {},
     "output_type": "execute_result"
    }
   ],
   "source": [
    "print(\"\\nCleaned Dataframe:\")\n",
    "df"
   ]
  },
  {
   "cell_type": "code",
   "execution_count": 19,
   "metadata": {},
   "outputs": [
    {
     "name": "stdout",
     "output_type": "stream",
     "text": [
      "\n",
      "Data Types:\n",
      "Index             int64\n",
      "User Id          object\n",
      "First Name       object\n",
      "Last Name        object\n",
      "Gender           object\n",
      "Email            object\n",
      "Phone             int64\n",
      "Date of birth    object\n",
      "Job Title        object\n",
      "Salary            int64\n",
      "dtype: object\n"
     ]
    }
   ],
   "source": [
    "print(\"\\nData Types:\")\n",
    "print(df.dtypes)"
   ]
  },
  {
   "cell_type": "markdown",
   "metadata": {},
   "source": []
  },
  {
   "cell_type": "markdown",
   "metadata": {},
   "source": [
    "## 8. Perform the following tasks using people dataset:\n",
    "\n",
    " ### (a) Read the 'data.csv' file using pandas, skipping the first 50 rows.\n",
    "\n",
    " ### (b) Only read the columns: 'Last Name', ‘Gender’,’Email’,‘Phone’ and ‘Salary’ from the file.\n",
    "\n",
    " ### (c) Display the first 10 rows of the filtered dataset.\n",
    "\n",
    " ### (d) Extract the ‘Salary’' column as a Series and display its last 5 values.\n"
   ]
  },
  {
   "cell_type": "code",
   "execution_count": 20,
   "metadata": {},
   "outputs": [
    {
     "data": {
      "text/html": [
       "<div>\n",
       "<style scoped>\n",
       "    .dataframe tbody tr th:only-of-type {\n",
       "        vertical-align: middle;\n",
       "    }\n",
       "\n",
       "    .dataframe tbody tr th {\n",
       "        vertical-align: top;\n",
       "    }\n",
       "\n",
       "    .dataframe thead th {\n",
       "        text-align: right;\n",
       "    }\n",
       "</style>\n",
       "<table border=\"1\" class=\"dataframe\">\n",
       "  <thead>\n",
       "    <tr style=\"text-align: right;\">\n",
       "      <th></th>\n",
       "      <th>Index</th>\n",
       "      <th>User Id</th>\n",
       "      <th>First Name</th>\n",
       "      <th>Last Name</th>\n",
       "      <th>Gender</th>\n",
       "      <th>Email</th>\n",
       "      <th>Phone</th>\n",
       "      <th>Date of birth</th>\n",
       "      <th>Job Title</th>\n",
       "      <th>Salary</th>\n",
       "    </tr>\n",
       "  </thead>\n",
       "  <tbody>\n",
       "    <tr>\n",
       "      <th>0</th>\n",
       "      <td>51</td>\n",
       "      <td>CccE5DAb6E288e5</td>\n",
       "      <td>Jo</td>\n",
       "      <td>Zavala</td>\n",
       "      <td>Male</td>\n",
       "      <td>pamela64@example.net</td>\n",
       "      <td>001-859-448-9935x54536</td>\n",
       "      <td>23-11-1992</td>\n",
       "      <td>Nurse, adult</td>\n",
       "      <td>80000</td>\n",
       "    </tr>\n",
       "    <tr>\n",
       "      <th>1</th>\n",
       "      <td>52</td>\n",
       "      <td>DfBDc3621D4bcec</td>\n",
       "      <td>Joshua</td>\n",
       "      <td>Carey</td>\n",
       "      <td>Female</td>\n",
       "      <td>dianashepherd@example.net</td>\n",
       "      <td>001-274-739-8470x814</td>\n",
       "      <td>07-01-1915</td>\n",
       "      <td>Seismic interpreter</td>\n",
       "      <td>70000</td>\n",
       "    </tr>\n",
       "    <tr>\n",
       "      <th>2</th>\n",
       "      <td>53</td>\n",
       "      <td>f55b0A249f5E44D</td>\n",
       "      <td>Rickey</td>\n",
       "      <td>Hobbs</td>\n",
       "      <td>Female</td>\n",
       "      <td>ingramtiffany@example.org</td>\n",
       "      <td>241.179.9509x498</td>\n",
       "      <td>01-07-1910</td>\n",
       "      <td>Barrister</td>\n",
       "      <td>60000</td>\n",
       "    </tr>\n",
       "    <tr>\n",
       "      <th>3</th>\n",
       "      <td>54</td>\n",
       "      <td>Ed71DcfaBFd0beE</td>\n",
       "      <td>Robyn</td>\n",
       "      <td>Reilly</td>\n",
       "      <td>Male</td>\n",
       "      <td>carriecrawford@example.org</td>\n",
       "      <td>207.797.8345x6177</td>\n",
       "      <td>27-07-1982</td>\n",
       "      <td>Engineer, structural</td>\n",
       "      <td>100000</td>\n",
       "    </tr>\n",
       "    <tr>\n",
       "      <th>4</th>\n",
       "      <td>55</td>\n",
       "      <td>FDaFD0c3f5387EC</td>\n",
       "      <td>Christina</td>\n",
       "      <td>Conrad</td>\n",
       "      <td>Male</td>\n",
       "      <td>fuentesclaudia@example.net</td>\n",
       "      <td>001-599-042-7428x143</td>\n",
       "      <td>06-01-1998</td>\n",
       "      <td>Producer, radio</td>\n",
       "      <td>50000</td>\n",
       "    </tr>\n",
       "    <tr>\n",
       "      <th>...</th>\n",
       "      <td>...</td>\n",
       "      <td>...</td>\n",
       "      <td>...</td>\n",
       "      <td>...</td>\n",
       "      <td>...</td>\n",
       "      <td>...</td>\n",
       "      <td>...</td>\n",
       "      <td>...</td>\n",
       "      <td>...</td>\n",
       "      <td>...</td>\n",
       "    </tr>\n",
       "    <tr>\n",
       "      <th>945</th>\n",
       "      <td>996</td>\n",
       "      <td>fedF4c7Fd9e7cFa</td>\n",
       "      <td>Kurt</td>\n",
       "      <td>Bryant</td>\n",
       "      <td>Female</td>\n",
       "      <td>lyonsdaisy@example.net</td>\n",
       "      <td>021.775.2933</td>\n",
       "      <td>05-01-1959</td>\n",
       "      <td>Personnel officer</td>\n",
       "      <td>90000</td>\n",
       "    </tr>\n",
       "    <tr>\n",
       "      <th>946</th>\n",
       "      <td>997</td>\n",
       "      <td>ECddaFEDdEc4FAB</td>\n",
       "      <td>Donna</td>\n",
       "      <td>Barry</td>\n",
       "      <td>Female</td>\n",
       "      <td>dariusbryan@example.com</td>\n",
       "      <td>001-149-710-7799x721</td>\n",
       "      <td>06-10-2001</td>\n",
       "      <td>Education administrator</td>\n",
       "      <td>50000</td>\n",
       "    </tr>\n",
       "    <tr>\n",
       "      <th>947</th>\n",
       "      <td>998</td>\n",
       "      <td>2adde51d8B8979E</td>\n",
       "      <td>Cathy</td>\n",
       "      <td>Mckinney</td>\n",
       "      <td>Female</td>\n",
       "      <td>georgechan@example.org</td>\n",
       "      <td>+1-750-774-4128x33265</td>\n",
       "      <td>13-05-1918</td>\n",
       "      <td>Commercial/residential surveyor</td>\n",
       "      <td>60000</td>\n",
       "    </tr>\n",
       "    <tr>\n",
       "      <th>948</th>\n",
       "      <td>999</td>\n",
       "      <td>Fb2FE369D1E171A</td>\n",
       "      <td>Jermaine</td>\n",
       "      <td>Phelps</td>\n",
       "      <td>Male</td>\n",
       "      <td>wanda04@example.net</td>\n",
       "      <td>(915)292-2254</td>\n",
       "      <td>31-08-1971</td>\n",
       "      <td>Ambulance person</td>\n",
       "      <td>100000</td>\n",
       "    </tr>\n",
       "    <tr>\n",
       "      <th>949</th>\n",
       "      <td>1000</td>\n",
       "      <td>8b756f6231DDC6e</td>\n",
       "      <td>Lee</td>\n",
       "      <td>Tran</td>\n",
       "      <td>Female</td>\n",
       "      <td>deannablack@example.org</td>\n",
       "      <td>079.752.5424x67259</td>\n",
       "      <td>24-01-1947</td>\n",
       "      <td>Nurse, learning disability</td>\n",
       "      <td>90000</td>\n",
       "    </tr>\n",
       "  </tbody>\n",
       "</table>\n",
       "<p>950 rows × 10 columns</p>\n",
       "</div>"
      ],
      "text/plain": [
       "     Index          User Id First Name Last Name  Gender  \\\n",
       "0       51  CccE5DAb6E288e5         Jo    Zavala    Male   \n",
       "1       52  DfBDc3621D4bcec     Joshua     Carey  Female   \n",
       "2       53  f55b0A249f5E44D     Rickey     Hobbs  Female   \n",
       "3       54  Ed71DcfaBFd0beE      Robyn    Reilly    Male   \n",
       "4       55  FDaFD0c3f5387EC  Christina    Conrad    Male   \n",
       "..     ...              ...        ...       ...     ...   \n",
       "945    996  fedF4c7Fd9e7cFa       Kurt    Bryant  Female   \n",
       "946    997  ECddaFEDdEc4FAB      Donna     Barry  Female   \n",
       "947    998  2adde51d8B8979E      Cathy  Mckinney  Female   \n",
       "948    999  Fb2FE369D1E171A   Jermaine    Phelps    Male   \n",
       "949   1000  8b756f6231DDC6e        Lee      Tran  Female   \n",
       "\n",
       "                          Email                   Phone Date of birth  \\\n",
       "0          pamela64@example.net  001-859-448-9935x54536    23-11-1992   \n",
       "1     dianashepherd@example.net    001-274-739-8470x814    07-01-1915   \n",
       "2     ingramtiffany@example.org        241.179.9509x498    01-07-1910   \n",
       "3    carriecrawford@example.org       207.797.8345x6177    27-07-1982   \n",
       "4    fuentesclaudia@example.net    001-599-042-7428x143    06-01-1998   \n",
       "..                          ...                     ...           ...   \n",
       "945      lyonsdaisy@example.net            021.775.2933    05-01-1959   \n",
       "946     dariusbryan@example.com    001-149-710-7799x721    06-10-2001   \n",
       "947      georgechan@example.org   +1-750-774-4128x33265    13-05-1918   \n",
       "948         wanda04@example.net           (915)292-2254    31-08-1971   \n",
       "949     deannablack@example.org      079.752.5424x67259    24-01-1947   \n",
       "\n",
       "                           Job Title  Salary  \n",
       "0                       Nurse, adult   80000  \n",
       "1                Seismic interpreter   70000  \n",
       "2                          Barrister   60000  \n",
       "3               Engineer, structural  100000  \n",
       "4                    Producer, radio   50000  \n",
       "..                               ...     ...  \n",
       "945                Personnel officer   90000  \n",
       "946          Education administrator   50000  \n",
       "947  Commercial/residential surveyor   60000  \n",
       "948                 Ambulance person  100000  \n",
       "949       Nurse, learning disability   90000  \n",
       "\n",
       "[950 rows x 10 columns]"
      ]
     },
     "execution_count": 20,
     "metadata": {},
     "output_type": "execute_result"
    }
   ],
   "source": [
    "# (a) Read the data.csv file using pandas ,skipping the first 50 rows\n",
    "df = pd.read_csv(\"C:/Users/praja/Downloads/People Data.csv\",skiprows=range(1,51))\n",
    "df"
   ]
  },
  {
   "cell_type": "code",
   "execution_count": 21,
   "metadata": {},
   "outputs": [
    {
     "data": {
      "text/html": [
       "<div>\n",
       "<style scoped>\n",
       "    .dataframe tbody tr th:only-of-type {\n",
       "        vertical-align: middle;\n",
       "    }\n",
       "\n",
       "    .dataframe tbody tr th {\n",
       "        vertical-align: top;\n",
       "    }\n",
       "\n",
       "    .dataframe thead th {\n",
       "        text-align: right;\n",
       "    }\n",
       "</style>\n",
       "<table border=\"1\" class=\"dataframe\">\n",
       "  <thead>\n",
       "    <tr style=\"text-align: right;\">\n",
       "      <th></th>\n",
       "      <th>Last Name</th>\n",
       "      <th>Gender</th>\n",
       "      <th>Email</th>\n",
       "      <th>Phone</th>\n",
       "      <th>Salary</th>\n",
       "    </tr>\n",
       "  </thead>\n",
       "  <tbody>\n",
       "    <tr>\n",
       "      <th>0</th>\n",
       "      <td>Zavala</td>\n",
       "      <td>Male</td>\n",
       "      <td>pamela64@example.net</td>\n",
       "      <td>001-859-448-9935x54536</td>\n",
       "      <td>80000</td>\n",
       "    </tr>\n",
       "    <tr>\n",
       "      <th>1</th>\n",
       "      <td>Carey</td>\n",
       "      <td>Female</td>\n",
       "      <td>dianashepherd@example.net</td>\n",
       "      <td>001-274-739-8470x814</td>\n",
       "      <td>70000</td>\n",
       "    </tr>\n",
       "    <tr>\n",
       "      <th>2</th>\n",
       "      <td>Hobbs</td>\n",
       "      <td>Female</td>\n",
       "      <td>ingramtiffany@example.org</td>\n",
       "      <td>241.179.9509x498</td>\n",
       "      <td>60000</td>\n",
       "    </tr>\n",
       "    <tr>\n",
       "      <th>3</th>\n",
       "      <td>Reilly</td>\n",
       "      <td>Male</td>\n",
       "      <td>carriecrawford@example.org</td>\n",
       "      <td>207.797.8345x6177</td>\n",
       "      <td>100000</td>\n",
       "    </tr>\n",
       "    <tr>\n",
       "      <th>4</th>\n",
       "      <td>Conrad</td>\n",
       "      <td>Male</td>\n",
       "      <td>fuentesclaudia@example.net</td>\n",
       "      <td>001-599-042-7428x143</td>\n",
       "      <td>50000</td>\n",
       "    </tr>\n",
       "    <tr>\n",
       "      <th>...</th>\n",
       "      <td>...</td>\n",
       "      <td>...</td>\n",
       "      <td>...</td>\n",
       "      <td>...</td>\n",
       "      <td>...</td>\n",
       "    </tr>\n",
       "    <tr>\n",
       "      <th>945</th>\n",
       "      <td>Bryant</td>\n",
       "      <td>Female</td>\n",
       "      <td>lyonsdaisy@example.net</td>\n",
       "      <td>021.775.2933</td>\n",
       "      <td>90000</td>\n",
       "    </tr>\n",
       "    <tr>\n",
       "      <th>946</th>\n",
       "      <td>Barry</td>\n",
       "      <td>Female</td>\n",
       "      <td>dariusbryan@example.com</td>\n",
       "      <td>001-149-710-7799x721</td>\n",
       "      <td>50000</td>\n",
       "    </tr>\n",
       "    <tr>\n",
       "      <th>947</th>\n",
       "      <td>Mckinney</td>\n",
       "      <td>Female</td>\n",
       "      <td>georgechan@example.org</td>\n",
       "      <td>+1-750-774-4128x33265</td>\n",
       "      <td>60000</td>\n",
       "    </tr>\n",
       "    <tr>\n",
       "      <th>948</th>\n",
       "      <td>Phelps</td>\n",
       "      <td>Male</td>\n",
       "      <td>wanda04@example.net</td>\n",
       "      <td>(915)292-2254</td>\n",
       "      <td>100000</td>\n",
       "    </tr>\n",
       "    <tr>\n",
       "      <th>949</th>\n",
       "      <td>Tran</td>\n",
       "      <td>Female</td>\n",
       "      <td>deannablack@example.org</td>\n",
       "      <td>079.752.5424x67259</td>\n",
       "      <td>90000</td>\n",
       "    </tr>\n",
       "  </tbody>\n",
       "</table>\n",
       "<p>950 rows × 5 columns</p>\n",
       "</div>"
      ],
      "text/plain": [
       "    Last Name  Gender                       Email                   Phone  \\\n",
       "0      Zavala    Male        pamela64@example.net  001-859-448-9935x54536   \n",
       "1       Carey  Female   dianashepherd@example.net    001-274-739-8470x814   \n",
       "2       Hobbs  Female   ingramtiffany@example.org        241.179.9509x498   \n",
       "3      Reilly    Male  carriecrawford@example.org       207.797.8345x6177   \n",
       "4      Conrad    Male  fuentesclaudia@example.net    001-599-042-7428x143   \n",
       "..        ...     ...                         ...                     ...   \n",
       "945    Bryant  Female      lyonsdaisy@example.net            021.775.2933   \n",
       "946     Barry  Female     dariusbryan@example.com    001-149-710-7799x721   \n",
       "947  Mckinney  Female      georgechan@example.org   +1-750-774-4128x33265   \n",
       "948    Phelps    Male         wanda04@example.net           (915)292-2254   \n",
       "949      Tran  Female     deannablack@example.org      079.752.5424x67259   \n",
       "\n",
       "     Salary  \n",
       "0     80000  \n",
       "1     70000  \n",
       "2     60000  \n",
       "3    100000  \n",
       "4     50000  \n",
       "..      ...  \n",
       "945   90000  \n",
       "946   50000  \n",
       "947   60000  \n",
       "948  100000  \n",
       "949   90000  \n",
       "\n",
       "[950 rows x 5 columns]"
      ]
     },
     "execution_count": 21,
     "metadata": {},
     "output_type": "execute_result"
    }
   ],
   "source": [
    "# (b) Only read the columns :'Last Name', ‘Gender’,’Email’,‘Phone’ and ‘Salary’ from the file.\n",
    "df = pd.read_csv(\"C:/Users/praja/Downloads/People Data.csv\",skiprows=range(1,51),usecols=['Last Name','Gender','Email','Phone','Salary'])\n",
    "df"
   ]
  },
  {
   "cell_type": "code",
   "execution_count": 22,
   "metadata": {},
   "outputs": [
    {
     "data": {
      "text/html": [
       "<div>\n",
       "<style scoped>\n",
       "    .dataframe tbody tr th:only-of-type {\n",
       "        vertical-align: middle;\n",
       "    }\n",
       "\n",
       "    .dataframe tbody tr th {\n",
       "        vertical-align: top;\n",
       "    }\n",
       "\n",
       "    .dataframe thead th {\n",
       "        text-align: right;\n",
       "    }\n",
       "</style>\n",
       "<table border=\"1\" class=\"dataframe\">\n",
       "  <thead>\n",
       "    <tr style=\"text-align: right;\">\n",
       "      <th></th>\n",
       "      <th>Last Name</th>\n",
       "      <th>Gender</th>\n",
       "      <th>Email</th>\n",
       "      <th>Phone</th>\n",
       "      <th>Salary</th>\n",
       "    </tr>\n",
       "  </thead>\n",
       "  <tbody>\n",
       "    <tr>\n",
       "      <th>0</th>\n",
       "      <td>Zavala</td>\n",
       "      <td>Male</td>\n",
       "      <td>pamela64@example.net</td>\n",
       "      <td>001-859-448-9935x54536</td>\n",
       "      <td>80000</td>\n",
       "    </tr>\n",
       "    <tr>\n",
       "      <th>1</th>\n",
       "      <td>Carey</td>\n",
       "      <td>Female</td>\n",
       "      <td>dianashepherd@example.net</td>\n",
       "      <td>001-274-739-8470x814</td>\n",
       "      <td>70000</td>\n",
       "    </tr>\n",
       "    <tr>\n",
       "      <th>2</th>\n",
       "      <td>Hobbs</td>\n",
       "      <td>Female</td>\n",
       "      <td>ingramtiffany@example.org</td>\n",
       "      <td>241.179.9509x498</td>\n",
       "      <td>60000</td>\n",
       "    </tr>\n",
       "    <tr>\n",
       "      <th>3</th>\n",
       "      <td>Reilly</td>\n",
       "      <td>Male</td>\n",
       "      <td>carriecrawford@example.org</td>\n",
       "      <td>207.797.8345x6177</td>\n",
       "      <td>100000</td>\n",
       "    </tr>\n",
       "    <tr>\n",
       "      <th>4</th>\n",
       "      <td>Conrad</td>\n",
       "      <td>Male</td>\n",
       "      <td>fuentesclaudia@example.net</td>\n",
       "      <td>001-599-042-7428x143</td>\n",
       "      <td>50000</td>\n",
       "    </tr>\n",
       "    <tr>\n",
       "      <th>5</th>\n",
       "      <td>Cole</td>\n",
       "      <td>Male</td>\n",
       "      <td>kaneaudrey@example.org</td>\n",
       "      <td>663-280-5834</td>\n",
       "      <td>85000</td>\n",
       "    </tr>\n",
       "    <tr>\n",
       "      <th>6</th>\n",
       "      <td>Donovan</td>\n",
       "      <td>Male</td>\n",
       "      <td>rebekahsantos@example.net</td>\n",
       "      <td>NaN</td>\n",
       "      <td>65000</td>\n",
       "    </tr>\n",
       "    <tr>\n",
       "      <th>7</th>\n",
       "      <td>Little</td>\n",
       "      <td>Female</td>\n",
       "      <td>craig28@example.com</td>\n",
       "      <td>125.219.3673x0076</td>\n",
       "      <td>60000</td>\n",
       "    </tr>\n",
       "    <tr>\n",
       "      <th>8</th>\n",
       "      <td>Dawson</td>\n",
       "      <td>Female</td>\n",
       "      <td>connercourtney@example.net</td>\n",
       "      <td>650-748-3069x64529</td>\n",
       "      <td>60000</td>\n",
       "    </tr>\n",
       "    <tr>\n",
       "      <th>9</th>\n",
       "      <td>Page</td>\n",
       "      <td>Male</td>\n",
       "      <td>harrygallagher@example.com</td>\n",
       "      <td>849.500.6331x717</td>\n",
       "      <td>60000</td>\n",
       "    </tr>\n",
       "  </tbody>\n",
       "</table>\n",
       "</div>"
      ],
      "text/plain": [
       "  Last Name  Gender                       Email                   Phone  \\\n",
       "0    Zavala    Male        pamela64@example.net  001-859-448-9935x54536   \n",
       "1     Carey  Female   dianashepherd@example.net    001-274-739-8470x814   \n",
       "2     Hobbs  Female   ingramtiffany@example.org        241.179.9509x498   \n",
       "3    Reilly    Male  carriecrawford@example.org       207.797.8345x6177   \n",
       "4    Conrad    Male  fuentesclaudia@example.net    001-599-042-7428x143   \n",
       "5      Cole    Male      kaneaudrey@example.org            663-280-5834   \n",
       "6   Donovan    Male   rebekahsantos@example.net                     NaN   \n",
       "7    Little  Female         craig28@example.com       125.219.3673x0076   \n",
       "8    Dawson  Female  connercourtney@example.net      650-748-3069x64529   \n",
       "9      Page    Male  harrygallagher@example.com        849.500.6331x717   \n",
       "\n",
       "   Salary  \n",
       "0   80000  \n",
       "1   70000  \n",
       "2   60000  \n",
       "3  100000  \n",
       "4   50000  \n",
       "5   85000  \n",
       "6   65000  \n",
       "7   60000  \n",
       "8   60000  \n",
       "9   60000  "
      ]
     },
     "execution_count": 22,
     "metadata": {},
     "output_type": "execute_result"
    }
   ],
   "source": [
    "# (c) Display the first 10 rows of the filtered dataset\n",
    "df.head(10)"
   ]
  },
  {
   "cell_type": "code",
   "execution_count": 23,
   "metadata": {},
   "outputs": [
    {
     "data": {
      "text/plain": [
       "945     90000\n",
       "946     50000\n",
       "947     60000\n",
       "948    100000\n",
       "949     90000\n",
       "Name: Salary, dtype: int64"
      ]
     },
     "execution_count": 23,
     "metadata": {},
     "output_type": "execute_result"
    }
   ],
   "source": [
    "#(d) Extract the ‘Salary’' column as a Series and display its last 5 values.\n",
    "df['Salary'].tail()"
   ]
  },
  {
   "cell_type": "markdown",
   "metadata": {},
   "source": [
    "## 9. Filter and select rows from the People_Dataset, where the “Last Name' column contains the name 'Duke', 'Gender' column contains the word Female and ‘Salary’ should be less than 85000."
   ]
  },
  {
   "cell_type": "code",
   "execution_count": 24,
   "metadata": {},
   "outputs": [
    {
     "data": {
      "text/html": [
       "<div>\n",
       "<style scoped>\n",
       "    .dataframe tbody tr th:only-of-type {\n",
       "        vertical-align: middle;\n",
       "    }\n",
       "\n",
       "    .dataframe tbody tr th {\n",
       "        vertical-align: top;\n",
       "    }\n",
       "\n",
       "    .dataframe thead th {\n",
       "        text-align: right;\n",
       "    }\n",
       "</style>\n",
       "<table border=\"1\" class=\"dataframe\">\n",
       "  <thead>\n",
       "    <tr style=\"text-align: right;\">\n",
       "      <th></th>\n",
       "      <th>Last Name</th>\n",
       "      <th>Gender</th>\n",
       "      <th>Email</th>\n",
       "      <th>Phone</th>\n",
       "      <th>Salary</th>\n",
       "    </tr>\n",
       "  </thead>\n",
       "  <tbody>\n",
       "    <tr>\n",
       "      <th>160</th>\n",
       "      <td>Duke</td>\n",
       "      <td>Female</td>\n",
       "      <td>robin78@example.com</td>\n",
       "      <td>740.434.0212</td>\n",
       "      <td>50000</td>\n",
       "    </tr>\n",
       "    <tr>\n",
       "      <th>407</th>\n",
       "      <td>Duke</td>\n",
       "      <td>Female</td>\n",
       "      <td>perryhoffman@example.org</td>\n",
       "      <td>+1-903-596-0995x489</td>\n",
       "      <td>50000</td>\n",
       "    </tr>\n",
       "    <tr>\n",
       "      <th>679</th>\n",
       "      <td>Duke</td>\n",
       "      <td>Female</td>\n",
       "      <td>kevinkramer@example.net</td>\n",
       "      <td>982.692.6257</td>\n",
       "      <td>70000</td>\n",
       "    </tr>\n",
       "  </tbody>\n",
       "</table>\n",
       "</div>"
      ],
      "text/plain": [
       "    Last Name  Gender                     Email                Phone  Salary\n",
       "160      Duke  Female       robin78@example.com         740.434.0212   50000\n",
       "407      Duke  Female  perryhoffman@example.org  +1-903-596-0995x489   50000\n",
       "679      Duke  Female   kevinkramer@example.net         982.692.6257   70000"
      ]
     },
     "execution_count": 24,
     "metadata": {},
     "output_type": "execute_result"
    }
   ],
   "source": [
    "filtered_df = df[(df['Last Name'].str.contains('Duke')) & \n",
    "                 (df['Gender'] == 'Female') &\n",
    "                 (df['Salary'] < 85000)]\n",
    "filtered_df"
   ]
  },
  {
   "cell_type": "markdown",
   "metadata": {},
   "source": [
    "## 10. Create a 7*5 Dataframe in Pandas using a series generated from 35 random integers between 1 to 6?"
   ]
  },
  {
   "cell_type": "code",
   "execution_count": 25,
   "metadata": {},
   "outputs": [
    {
     "name": "stdout",
     "output_type": "stream",
     "text": [
      "7*5 Dataframe of random integers between 1 and 6:\n",
      "   0  1  2  3  4\n",
      "0  1  4  6  4  2\n",
      "1  3  5  6  3  3\n",
      "2  6  6  1  5  3\n",
      "3  3  3  5  1  1\n",
      "4  2  2  4  4  6\n",
      "5  5  5  1  6  5\n",
      "6  5  6  1  6  2\n"
     ]
    }
   ],
   "source": [
    "#Generate a series of 35 random integers between 1 and 6\n",
    "random_integers = np.random.randint(1,7,35)\n",
    "\n",
    "# Reshape the series into a 7*5 dataframe\n",
    "df = pd.DataFrame(random_integers.reshape(7,5))\n",
    "\n",
    "print(\"7*5 Dataframe of random integers between 1 and 6:\")\n",
    "print(df)\n"
   ]
  },
  {
   "cell_type": "markdown",
   "metadata": {},
   "source": [
    "## 11. Create two different Series, each of length 50, with the following criteria:\n",
    "\n",
    "### (a) The first Series should contain random numbers ranging from 10 to 50.\n",
    "\n",
    "### (b) The second Series should contain random numbers ranging from 100 to 1000.\n",
    "\n",
    "### (c) Create a DataFrame by 'oining these Series by column, and, change the names of the columns to 'col1', 'col2',\n",
    "etc&"
   ]
  },
  {
   "cell_type": "code",
   "execution_count": 26,
   "metadata": {},
   "outputs": [
    {
     "name": "stdout",
     "output_type": "stream",
     "text": [
      "DataFrame with two columns:\n",
      "    col1  col2\n",
      "0     49   725\n",
      "1     46   635\n",
      "2     21   181\n",
      "3     22   788\n",
      "4     19   350\n",
      "5     28   544\n",
      "6     17   820\n",
      "7     19   534\n",
      "8     15   109\n",
      "9     20   475\n",
      "10    17   329\n",
      "11    23   721\n",
      "12    45   663\n",
      "13    30   414\n",
      "14    46   838\n",
      "15    33   629\n",
      "16    37   749\n",
      "17    31   613\n",
      "18    15   749\n",
      "19    29   506\n",
      "20    28   925\n",
      "21    10   792\n",
      "22    43   934\n",
      "23    20   308\n",
      "24    44   638\n",
      "25    20   708\n",
      "26    19   752\n",
      "27    25   915\n",
      "28    41   561\n",
      "29    19   709\n",
      "30    22   823\n",
      "31    29   585\n",
      "32    37   766\n",
      "33    22   521\n",
      "34    44   108\n",
      "35    38   432\n",
      "36    23   445\n",
      "37    31   116\n",
      "38    20   899\n",
      "39    16   275\n",
      "40    43   924\n",
      "41    22   264\n",
      "42    28   221\n",
      "43    32   120\n",
      "44    46   252\n",
      "45    22   104\n",
      "46    35   154\n",
      "47    30   646\n",
      "48    37   593\n",
      "49    40   283\n"
     ]
    }
   ],
   "source": [
    "import pandas as pd\n",
    "import numpy as np\n",
    "\n",
    "# (a) Create the first Series with random numbers ranging from 10 to 50\n",
    "series1 = pd.Series(np.random.randint(10, 51, size=50))\n",
    "\n",
    "# (b) Create the second Series with random numbers ranging from 100 to 1000\n",
    "series2 = pd.Series(np.random.randint(100, 1001, size=50))\n",
    "\n",
    "# (c) Create a DataFrame by joining these Series by column\n",
    "df = pd.DataFrame({'col1': series1, 'col2': series2})\n",
    "\n",
    "# Display the DataFrame\n",
    "print(\"DataFrame with two columns:\")\n",
    "print(df)\n"
   ]
  },
  {
   "cell_type": "markdown",
   "metadata": {},
   "source": [
    "## 12. Perform the following operations using people data set:\n",
    "\n",
    "### (a) Delete the 'Email', 'Phone', and 'Date of birth' columns from the dataset.\n",
    "\n",
    "### (b) Delete the rows containing any missing values.\n",
    "\n",
    "### (c) Print the final output also."
   ]
  },
  {
   "cell_type": "code",
   "execution_count": 27,
   "metadata": {},
   "outputs": [
    {
     "data": {
      "text/html": [
       "<div>\n",
       "<style scoped>\n",
       "    .dataframe tbody tr th:only-of-type {\n",
       "        vertical-align: middle;\n",
       "    }\n",
       "\n",
       "    .dataframe tbody tr th {\n",
       "        vertical-align: top;\n",
       "    }\n",
       "\n",
       "    .dataframe thead th {\n",
       "        text-align: right;\n",
       "    }\n",
       "</style>\n",
       "<table border=\"1\" class=\"dataframe\">\n",
       "  <thead>\n",
       "    <tr style=\"text-align: right;\">\n",
       "      <th></th>\n",
       "      <th>Index</th>\n",
       "      <th>User Id</th>\n",
       "      <th>First Name</th>\n",
       "      <th>Last Name</th>\n",
       "      <th>Gender</th>\n",
       "      <th>Email</th>\n",
       "      <th>Phone</th>\n",
       "      <th>Date of birth</th>\n",
       "      <th>Job Title</th>\n",
       "      <th>Salary</th>\n",
       "    </tr>\n",
       "  </thead>\n",
       "  <tbody>\n",
       "    <tr>\n",
       "      <th>0</th>\n",
       "      <td>1</td>\n",
       "      <td>8717bbf45cCDbEe</td>\n",
       "      <td>Shelia</td>\n",
       "      <td>Mahoney</td>\n",
       "      <td>Male</td>\n",
       "      <td>pwarner@example.org</td>\n",
       "      <td>857.139.8239</td>\n",
       "      <td>27-01-2014</td>\n",
       "      <td>Probation officer</td>\n",
       "      <td>90000</td>\n",
       "    </tr>\n",
       "    <tr>\n",
       "      <th>1</th>\n",
       "      <td>2</td>\n",
       "      <td>3d5AD30A4cD38ed</td>\n",
       "      <td>Jo</td>\n",
       "      <td>Rivers</td>\n",
       "      <td>Female</td>\n",
       "      <td>fergusonkatherine@example.net</td>\n",
       "      <td>NaN</td>\n",
       "      <td>26-07-1931</td>\n",
       "      <td>Dancer</td>\n",
       "      <td>80000</td>\n",
       "    </tr>\n",
       "    <tr>\n",
       "      <th>2</th>\n",
       "      <td>3</td>\n",
       "      <td>810Ce0F276Badec</td>\n",
       "      <td>Sheryl</td>\n",
       "      <td>Lowery</td>\n",
       "      <td>Female</td>\n",
       "      <td>fhoward@example.org</td>\n",
       "      <td>(599)782-0605</td>\n",
       "      <td>25-11-2013</td>\n",
       "      <td>Copy</td>\n",
       "      <td>50000</td>\n",
       "    </tr>\n",
       "    <tr>\n",
       "      <th>3</th>\n",
       "      <td>4</td>\n",
       "      <td>BF2a889C00f0cE1</td>\n",
       "      <td>Whitney</td>\n",
       "      <td>Hooper</td>\n",
       "      <td>Male</td>\n",
       "      <td>zjohnston@example.com</td>\n",
       "      <td>NaN</td>\n",
       "      <td>17-11-2012</td>\n",
       "      <td>Counselling psychologist</td>\n",
       "      <td>65000</td>\n",
       "    </tr>\n",
       "    <tr>\n",
       "      <th>4</th>\n",
       "      <td>5</td>\n",
       "      <td>9afFEafAe1CBBB9</td>\n",
       "      <td>Lindsey</td>\n",
       "      <td>Rice</td>\n",
       "      <td>Female</td>\n",
       "      <td>elin@example.net</td>\n",
       "      <td>(390)417-1635x3010</td>\n",
       "      <td>15-04-1923</td>\n",
       "      <td>Biomedical engineer</td>\n",
       "      <td>100000</td>\n",
       "    </tr>\n",
       "    <tr>\n",
       "      <th>...</th>\n",
       "      <td>...</td>\n",
       "      <td>...</td>\n",
       "      <td>...</td>\n",
       "      <td>...</td>\n",
       "      <td>...</td>\n",
       "      <td>...</td>\n",
       "      <td>...</td>\n",
       "      <td>...</td>\n",
       "      <td>...</td>\n",
       "      <td>...</td>\n",
       "    </tr>\n",
       "    <tr>\n",
       "      <th>995</th>\n",
       "      <td>996</td>\n",
       "      <td>fedF4c7Fd9e7cFa</td>\n",
       "      <td>Kurt</td>\n",
       "      <td>Bryant</td>\n",
       "      <td>Female</td>\n",
       "      <td>lyonsdaisy@example.net</td>\n",
       "      <td>021.775.2933</td>\n",
       "      <td>05-01-1959</td>\n",
       "      <td>Personnel officer</td>\n",
       "      <td>90000</td>\n",
       "    </tr>\n",
       "    <tr>\n",
       "      <th>996</th>\n",
       "      <td>997</td>\n",
       "      <td>ECddaFEDdEc4FAB</td>\n",
       "      <td>Donna</td>\n",
       "      <td>Barry</td>\n",
       "      <td>Female</td>\n",
       "      <td>dariusbryan@example.com</td>\n",
       "      <td>001-149-710-7799x721</td>\n",
       "      <td>06-10-2001</td>\n",
       "      <td>Education administrator</td>\n",
       "      <td>50000</td>\n",
       "    </tr>\n",
       "    <tr>\n",
       "      <th>997</th>\n",
       "      <td>998</td>\n",
       "      <td>2adde51d8B8979E</td>\n",
       "      <td>Cathy</td>\n",
       "      <td>Mckinney</td>\n",
       "      <td>Female</td>\n",
       "      <td>georgechan@example.org</td>\n",
       "      <td>+1-750-774-4128x33265</td>\n",
       "      <td>13-05-1918</td>\n",
       "      <td>Commercial/residential surveyor</td>\n",
       "      <td>60000</td>\n",
       "    </tr>\n",
       "    <tr>\n",
       "      <th>998</th>\n",
       "      <td>999</td>\n",
       "      <td>Fb2FE369D1E171A</td>\n",
       "      <td>Jermaine</td>\n",
       "      <td>Phelps</td>\n",
       "      <td>Male</td>\n",
       "      <td>wanda04@example.net</td>\n",
       "      <td>(915)292-2254</td>\n",
       "      <td>31-08-1971</td>\n",
       "      <td>Ambulance person</td>\n",
       "      <td>100000</td>\n",
       "    </tr>\n",
       "    <tr>\n",
       "      <th>999</th>\n",
       "      <td>1000</td>\n",
       "      <td>8b756f6231DDC6e</td>\n",
       "      <td>Lee</td>\n",
       "      <td>Tran</td>\n",
       "      <td>Female</td>\n",
       "      <td>deannablack@example.org</td>\n",
       "      <td>079.752.5424x67259</td>\n",
       "      <td>24-01-1947</td>\n",
       "      <td>Nurse, learning disability</td>\n",
       "      <td>90000</td>\n",
       "    </tr>\n",
       "  </tbody>\n",
       "</table>\n",
       "<p>1000 rows × 10 columns</p>\n",
       "</div>"
      ],
      "text/plain": [
       "     Index          User Id First Name Last Name  Gender  \\\n",
       "0        1  8717bbf45cCDbEe     Shelia   Mahoney    Male   \n",
       "1        2  3d5AD30A4cD38ed         Jo    Rivers  Female   \n",
       "2        3  810Ce0F276Badec     Sheryl    Lowery  Female   \n",
       "3        4  BF2a889C00f0cE1    Whitney    Hooper    Male   \n",
       "4        5  9afFEafAe1CBBB9    Lindsey      Rice  Female   \n",
       "..     ...              ...        ...       ...     ...   \n",
       "995    996  fedF4c7Fd9e7cFa       Kurt    Bryant  Female   \n",
       "996    997  ECddaFEDdEc4FAB      Donna     Barry  Female   \n",
       "997    998  2adde51d8B8979E      Cathy  Mckinney  Female   \n",
       "998    999  Fb2FE369D1E171A   Jermaine    Phelps    Male   \n",
       "999   1000  8b756f6231DDC6e        Lee      Tran  Female   \n",
       "\n",
       "                             Email                  Phone Date of birth  \\\n",
       "0              pwarner@example.org           857.139.8239    27-01-2014   \n",
       "1    fergusonkatherine@example.net                    NaN    26-07-1931   \n",
       "2              fhoward@example.org          (599)782-0605    25-11-2013   \n",
       "3            zjohnston@example.com                    NaN    17-11-2012   \n",
       "4                 elin@example.net     (390)417-1635x3010    15-04-1923   \n",
       "..                             ...                    ...           ...   \n",
       "995         lyonsdaisy@example.net           021.775.2933    05-01-1959   \n",
       "996        dariusbryan@example.com   001-149-710-7799x721    06-10-2001   \n",
       "997         georgechan@example.org  +1-750-774-4128x33265    13-05-1918   \n",
       "998            wanda04@example.net          (915)292-2254    31-08-1971   \n",
       "999        deannablack@example.org     079.752.5424x67259    24-01-1947   \n",
       "\n",
       "                           Job Title  Salary  \n",
       "0                  Probation officer   90000  \n",
       "1                             Dancer   80000  \n",
       "2                               Copy   50000  \n",
       "3           Counselling psychologist   65000  \n",
       "4                Biomedical engineer  100000  \n",
       "..                               ...     ...  \n",
       "995                Personnel officer   90000  \n",
       "996          Education administrator   50000  \n",
       "997  Commercial/residential surveyor   60000  \n",
       "998                 Ambulance person  100000  \n",
       "999       Nurse, learning disability   90000  \n",
       "\n",
       "[1000 rows x 10 columns]"
      ]
     },
     "execution_count": 27,
     "metadata": {},
     "output_type": "execute_result"
    }
   ],
   "source": [
    "import pandas as pd\n",
    "\n",
    "# Read the csv file into a dataframe\n",
    "df = pd.read_csv(\"C:/Users/praja/Downloads/People Data.csv\")\n",
    "df\n",
    "\n"
   ]
  },
  {
   "cell_type": "code",
   "execution_count": 28,
   "metadata": {},
   "outputs": [
    {
     "name": "stdout",
     "output_type": "stream",
     "text": [
      "Modified Dataframe:\n"
     ]
    },
    {
     "data": {
      "text/html": [
       "<div>\n",
       "<style scoped>\n",
       "    .dataframe tbody tr th:only-of-type {\n",
       "        vertical-align: middle;\n",
       "    }\n",
       "\n",
       "    .dataframe tbody tr th {\n",
       "        vertical-align: top;\n",
       "    }\n",
       "\n",
       "    .dataframe thead th {\n",
       "        text-align: right;\n",
       "    }\n",
       "</style>\n",
       "<table border=\"1\" class=\"dataframe\">\n",
       "  <thead>\n",
       "    <tr style=\"text-align: right;\">\n",
       "      <th></th>\n",
       "      <th>Index</th>\n",
       "      <th>User Id</th>\n",
       "      <th>First Name</th>\n",
       "      <th>Last Name</th>\n",
       "      <th>Gender</th>\n",
       "      <th>Job Title</th>\n",
       "      <th>Salary</th>\n",
       "    </tr>\n",
       "  </thead>\n",
       "  <tbody>\n",
       "    <tr>\n",
       "      <th>0</th>\n",
       "      <td>1</td>\n",
       "      <td>8717bbf45cCDbEe</td>\n",
       "      <td>Shelia</td>\n",
       "      <td>Mahoney</td>\n",
       "      <td>Male</td>\n",
       "      <td>Probation officer</td>\n",
       "      <td>90000</td>\n",
       "    </tr>\n",
       "    <tr>\n",
       "      <th>1</th>\n",
       "      <td>2</td>\n",
       "      <td>3d5AD30A4cD38ed</td>\n",
       "      <td>Jo</td>\n",
       "      <td>Rivers</td>\n",
       "      <td>Female</td>\n",
       "      <td>Dancer</td>\n",
       "      <td>80000</td>\n",
       "    </tr>\n",
       "    <tr>\n",
       "      <th>2</th>\n",
       "      <td>3</td>\n",
       "      <td>810Ce0F276Badec</td>\n",
       "      <td>Sheryl</td>\n",
       "      <td>Lowery</td>\n",
       "      <td>Female</td>\n",
       "      <td>Copy</td>\n",
       "      <td>50000</td>\n",
       "    </tr>\n",
       "    <tr>\n",
       "      <th>3</th>\n",
       "      <td>4</td>\n",
       "      <td>BF2a889C00f0cE1</td>\n",
       "      <td>Whitney</td>\n",
       "      <td>Hooper</td>\n",
       "      <td>Male</td>\n",
       "      <td>Counselling psychologist</td>\n",
       "      <td>65000</td>\n",
       "    </tr>\n",
       "    <tr>\n",
       "      <th>4</th>\n",
       "      <td>5</td>\n",
       "      <td>9afFEafAe1CBBB9</td>\n",
       "      <td>Lindsey</td>\n",
       "      <td>Rice</td>\n",
       "      <td>Female</td>\n",
       "      <td>Biomedical engineer</td>\n",
       "      <td>100000</td>\n",
       "    </tr>\n",
       "    <tr>\n",
       "      <th>...</th>\n",
       "      <td>...</td>\n",
       "      <td>...</td>\n",
       "      <td>...</td>\n",
       "      <td>...</td>\n",
       "      <td>...</td>\n",
       "      <td>...</td>\n",
       "      <td>...</td>\n",
       "    </tr>\n",
       "    <tr>\n",
       "      <th>995</th>\n",
       "      <td>996</td>\n",
       "      <td>fedF4c7Fd9e7cFa</td>\n",
       "      <td>Kurt</td>\n",
       "      <td>Bryant</td>\n",
       "      <td>Female</td>\n",
       "      <td>Personnel officer</td>\n",
       "      <td>90000</td>\n",
       "    </tr>\n",
       "    <tr>\n",
       "      <th>996</th>\n",
       "      <td>997</td>\n",
       "      <td>ECddaFEDdEc4FAB</td>\n",
       "      <td>Donna</td>\n",
       "      <td>Barry</td>\n",
       "      <td>Female</td>\n",
       "      <td>Education administrator</td>\n",
       "      <td>50000</td>\n",
       "    </tr>\n",
       "    <tr>\n",
       "      <th>997</th>\n",
       "      <td>998</td>\n",
       "      <td>2adde51d8B8979E</td>\n",
       "      <td>Cathy</td>\n",
       "      <td>Mckinney</td>\n",
       "      <td>Female</td>\n",
       "      <td>Commercial/residential surveyor</td>\n",
       "      <td>60000</td>\n",
       "    </tr>\n",
       "    <tr>\n",
       "      <th>998</th>\n",
       "      <td>999</td>\n",
       "      <td>Fb2FE369D1E171A</td>\n",
       "      <td>Jermaine</td>\n",
       "      <td>Phelps</td>\n",
       "      <td>Male</td>\n",
       "      <td>Ambulance person</td>\n",
       "      <td>100000</td>\n",
       "    </tr>\n",
       "    <tr>\n",
       "      <th>999</th>\n",
       "      <td>1000</td>\n",
       "      <td>8b756f6231DDC6e</td>\n",
       "      <td>Lee</td>\n",
       "      <td>Tran</td>\n",
       "      <td>Female</td>\n",
       "      <td>Nurse, learning disability</td>\n",
       "      <td>90000</td>\n",
       "    </tr>\n",
       "  </tbody>\n",
       "</table>\n",
       "<p>1000 rows × 7 columns</p>\n",
       "</div>"
      ],
      "text/plain": [
       "     Index          User Id First Name Last Name  Gender  \\\n",
       "0        1  8717bbf45cCDbEe     Shelia   Mahoney    Male   \n",
       "1        2  3d5AD30A4cD38ed         Jo    Rivers  Female   \n",
       "2        3  810Ce0F276Badec     Sheryl    Lowery  Female   \n",
       "3        4  BF2a889C00f0cE1    Whitney    Hooper    Male   \n",
       "4        5  9afFEafAe1CBBB9    Lindsey      Rice  Female   \n",
       "..     ...              ...        ...       ...     ...   \n",
       "995    996  fedF4c7Fd9e7cFa       Kurt    Bryant  Female   \n",
       "996    997  ECddaFEDdEc4FAB      Donna     Barry  Female   \n",
       "997    998  2adde51d8B8979E      Cathy  Mckinney  Female   \n",
       "998    999  Fb2FE369D1E171A   Jermaine    Phelps    Male   \n",
       "999   1000  8b756f6231DDC6e        Lee      Tran  Female   \n",
       "\n",
       "                           Job Title  Salary  \n",
       "0                  Probation officer   90000  \n",
       "1                             Dancer   80000  \n",
       "2                               Copy   50000  \n",
       "3           Counselling psychologist   65000  \n",
       "4                Biomedical engineer  100000  \n",
       "..                               ...     ...  \n",
       "995                Personnel officer   90000  \n",
       "996          Education administrator   50000  \n",
       "997  Commercial/residential surveyor   60000  \n",
       "998                 Ambulance person  100000  \n",
       "999       Nurse, learning disability   90000  \n",
       "\n",
       "[1000 rows x 7 columns]"
      ]
     },
     "execution_count": 28,
     "metadata": {},
     "output_type": "execute_result"
    }
   ],
   "source": [
    "# (a) Delete the 'Email', 'Phone', and 'Date of birth' columns from the dataset\n",
    "df.drop(columns=['Email','Phone','Date of birth'],axis=1,inplace=True)\n",
    "print(\"Modified Dataframe:\")\n",
    "df\n",
    "\n"
   ]
  },
  {
   "cell_type": "code",
   "execution_count": 29,
   "metadata": {},
   "outputs": [
    {
     "data": {
      "text/plain": [
       "Index         0\n",
       "User Id       0\n",
       "First Name    0\n",
       "Last Name     0\n",
       "Gender        0\n",
       "Job Title     0\n",
       "Salary        0\n",
       "dtype: int64"
      ]
     },
     "execution_count": 29,
     "metadata": {},
     "output_type": "execute_result"
    }
   ],
   "source": [
    "# (b) checking for the  missing values\n",
    "df.isnull().sum()\n",
    "\n"
   ]
  },
  {
   "cell_type": "code",
   "execution_count": 30,
   "metadata": {},
   "outputs": [],
   "source": [
    "# there are no missing values but still trying to remove the rows containing missing value\n",
    "df.dropna(inplace=True)"
   ]
  },
  {
   "cell_type": "code",
   "execution_count": 31,
   "metadata": {},
   "outputs": [
    {
     "name": "stdout",
     "output_type": "stream",
     "text": [
      "Final Dataframe after deleting specified columns and rows with missing values:\n",
      "     Index          User Id First Name Last Name  Gender  \\\n",
      "0        1  8717bbf45cCDbEe     Shelia   Mahoney    Male   \n",
      "1        2  3d5AD30A4cD38ed         Jo    Rivers  Female   \n",
      "2        3  810Ce0F276Badec     Sheryl    Lowery  Female   \n",
      "3        4  BF2a889C00f0cE1    Whitney    Hooper    Male   \n",
      "4        5  9afFEafAe1CBBB9    Lindsey      Rice  Female   \n",
      "..     ...              ...        ...       ...     ...   \n",
      "995    996  fedF4c7Fd9e7cFa       Kurt    Bryant  Female   \n",
      "996    997  ECddaFEDdEc4FAB      Donna     Barry  Female   \n",
      "997    998  2adde51d8B8979E      Cathy  Mckinney  Female   \n",
      "998    999  Fb2FE369D1E171A   Jermaine    Phelps    Male   \n",
      "999   1000  8b756f6231DDC6e        Lee      Tran  Female   \n",
      "\n",
      "                           Job Title  Salary  \n",
      "0                  Probation officer   90000  \n",
      "1                             Dancer   80000  \n",
      "2                               Copy   50000  \n",
      "3           Counselling psychologist   65000  \n",
      "4                Biomedical engineer  100000  \n",
      "..                               ...     ...  \n",
      "995                Personnel officer   90000  \n",
      "996          Education administrator   50000  \n",
      "997  Commercial/residential surveyor   60000  \n",
      "998                 Ambulance person  100000  \n",
      "999       Nurse, learning disability   90000  \n",
      "\n",
      "[1000 rows x 7 columns]\n"
     ]
    }
   ],
   "source": [
    "#(c) print the final output\n",
    "print(\"Final Dataframe after deleting specified columns and rows with missing values:\")\n",
    "print(df)"
   ]
  },
  {
   "cell_type": "markdown",
   "metadata": {},
   "source": [
    "## 13.Create two NumPy arrays, x and y, each containing 100 random float values between 0 and 1. Perform the following tasks using Matplotlib and NumPy:\n",
    "\n",
    "### (a) Create a scatter plot using x and y, setting the color of the points to red and the marker style to 'o'.\n",
    "\n",
    "### (b) Add a horizontal line at y = 0.5 using a dashed line style and label it as 'y = 0.5'.\n",
    "\n",
    "### (c) Add a vertical line at x = 0.5 using a dotted line style and label it as 'x = 0.5'.\n",
    "\n",
    "### (d) Label the x-axis as 'X-axis' and the y-axis as 'Y-axis'.\n",
    "\n",
    "### (e) Set the title of the plot as 'Advanced Scatter Plot of Random Values'.\n",
    "\n",
    "### (f) Display a legend for the scatter plot, the horizontal line, and the vertical line."
   ]
  },
  {
   "cell_type": "code",
   "execution_count": 32,
   "metadata": {},
   "outputs": [
    {
     "data": {
      "image/png": "[encoded data removed]",
      "text/plain": [
       "<Figure size 640x480 with 1 Axes>"
      ]
     },
     "metadata": {},
     "output_type": "display_data"
    }
   ],
   "source": [
    "import numpy as np\n",
    "import matplotlib.pyplot as plt\n",
    "\n",
    "# Create two numpy arrays, x and y, each containing 100 random float between 0 and 1\n",
    "x = np.random.rand(100)\n",
    "y = np.random.rand(100)\n",
    "\n",
    "# (a)Create a scatter plot using x and y, setting the color of the points to red and the marker style to '0'\n",
    "plt.scatter(x,y,color='red',marker='o',label= 'Random Points')\n",
    "\n",
    "# (b) Add a horizontal line at x = 0.5 using a dotted line style and label it as 'y 0.5\n",
    "plt.axhline(y=0.5,color= 'green',linestyle='--',label='y=0.5')\n",
    "\n",
    "# (c) add a vertical line at x= 0.5 using a dotted line style and label it as 'x = 0.5'\n",
    "plt.axvline(x=0.5,color= 'blue',linestyle = ':',label ='x=0.5' )\n",
    "\n",
    "# (d) label the x-axis as x-axis and the y-axis as 'y-axis'\n",
    "plt.xlabel('x-axis')\n",
    "plt.ylabel('y-axis')\n",
    "\n",
    "# (e) Set the title of the plot as 'Advanced Scatter plot of Random Values'\n",
    "\n",
    "plt.title('Advanced Scatter plot of Random Values')\n",
    "\n",
    "# (f) Display a legend for the scatter plot,the horizontal line,and the vartical line\n",
    "plt.legend()\n",
    "\n",
    "# Display the plot\n",
    "plt.show()"
   ]
  },
  {
   "cell_type": "markdown",
   "metadata": {},
   "source": [
    "## 14. Create a time-series dataset in a Pandas DataFrame with columns: 'Date', 'Temperature', 'Humidity' and Perform the following tasks using Matplotlib:\n",
    "\n",
    "### (a) Plot the 'Temperature' and 'Humidity' on the same plot with different y-axes (left y-axis for 'Temperature' and right y-axis for 'Humidity').\n",
    "\n",
    "### (b) Label the x-axis as 'Date'.\n",
    "\n",
    "### (c) Set the title of the plot as 'Temperature and Humidity Over Time'."
   ]
  },
  {
   "cell_type": "code",
   "execution_count": 33,
   "metadata": {},
   "outputs": [
    {
     "data": {
      "image/png": "[encoded data removed]",
      "text/plain": [
       "<Figure size 640x480 with 2 Axes>"
      ]
     },
     "metadata": {},
     "output_type": "display_data"
    }
   ],
   "source": [
    "import pandas as pd\n",
    "import numpy as np\n",
    "import matplotlib.pyplot as plt\n",
    "\n",
    "# Step 1: Create the time-series dataset\n",
    "np.random.seed(0)  # For reproducible results\n",
    "dates = pd.date_range(start='2023-01-01', periods=30, freq='D')\n",
    "temperature = np.random.uniform(low=-10, high=35, size=30)  # Random temperatures between -10 and 35 degrees Celsius\n",
    "humidity = np.random.uniform(low=20, high=100, size=30)  # Random humidity between 20% and 100%\n",
    "\n",
    "# Create DataFrame\n",
    "df = pd.DataFrame({'Date': dates, 'Temperature': temperature, 'Humidity': humidity})\n",
    "\n",
    "# Step 2: Plot the data with dual y-axes\n",
    "fig, ax1 = plt.subplots()\n",
    "\n",
    "# Plot temperature on the left y-axis\n",
    "ax1.plot(df['Date'], df['Temperature'], 'b-', label='Temperature')\n",
    "ax1.set_xlabel('Date')\n",
    "ax1.set_ylabel('Temperature (°C)', color='b')\n",
    "ax1.tick_params(axis='y', labelcolor='b')\n",
    "\n",
    "# Create a second y-axis for the humidity\n",
    "ax2 = ax1.twinx()\n",
    "ax2.plot(df['Date'], df['Humidity'], 'r-', label='Humidity')\n",
    "ax2.set_ylabel('Humidity (%)', color='r')\n",
    "ax2.tick_params(axis='y', labelcolor='r')\n",
    "\n",
    "# Set the title of the plot\n",
    "plt.title('Temperature and Humidity Over Time')\n",
    "\n",
    "# Show the plot\n",
    "fig.tight_layout()\n",
    "plt.show()\n"
   ]
  },
  {
   "cell_type": "markdown",
   "metadata": {},
   "source": [
    "## 15. Create a NumPy array data containing 1000 samples from a normal distribution. Perform the following tasks using Matplotlib: \n",
    "### (a) Plot a histogram of the data with 30 bins. \n",
    "### (b) Overlay a line plot representing the normal distribution's probability density function (PDF).\n",
    "### (c) Label the x-axis as 'Value' and the y-axis as 'Frequency/Probability'.\n",
    "### (d) Set the title of the plot as 'Histogram with PDF Overlay'."
   ]
  },
  {
   "cell_type": "code",
   "execution_count": 34,
   "metadata": {},
   "outputs": [
    {
     "data": {
      "image/png": "[encoded data removed]",
      "text/plain": [
       "<Figure size 640x480 with 1 Axes>"
      ]
     },
     "metadata": {},
     "output_type": "display_data"
    }
   ],
   "source": [
    "import numpy as np\n",
    "import matplotlib.pyplot as plt\n",
    "from scipy.stats import norm\n",
    "\n",
    "# Step 1 : Create a numpy array containing 1000 samples from a normal distribution\n",
    "data = np.random.normal(loc=0,scale=1,size=1000)\n",
    "\n",
    "# Step 2: plot this histogram of the data with 30 bins\n",
    "plt.hist(data, bins=30,density=True,alpha=0.6,color='g',label='Histogram')\n",
    "\n",
    "# Calculate the pdf \n",
    "xmin ,xmax = plt.xlim()\n",
    "x = np.linspace(xmin,xmax,100)\n",
    "p = norm.pdf(x,loc=0,scale=1)\n",
    "\n",
    "# Overlay the pdf\n",
    "plt.plot(x,p,'k',linewidth=2,label='pdf')\n",
    "\n",
    "\n",
    "# (c) label the x-axis and the y-axis\n",
    "plt.xlabel('Value')\n",
    "plt.ylabel('Frequency/Probability')\n",
    "\n",
    "# (d) set the title of the plot\n",
    "plt.title('Histrogram with pdf Overlay')\n",
    "\n",
    "# Add a legend \n",
    "plt.legend()\n",
    "\n",
    "# show the plot\n",
    "plt.show()"
   ]
  },
  {
   "cell_type": "markdown",
   "metadata": {},
   "source": [
    "## 16.Set the title of the plot as 'Histogram with PDF Overlay'."
   ]
  },
  {
   "cell_type": "code",
   "execution_count": 35,
   "metadata": {},
   "outputs": [
    {
     "data": {
      "image/png": "[encoded data removed]",
      "text/plain": [
       "<Figure size 1200x600 with 1 Axes>"
      ]
     },
     "metadata": {},
     "output_type": "display_data"
    }
   ],
   "source": [
    "plt.figure(figsize=(12,6))\n",
    "\n",
    "# plotting histrogram with 30 bins\n",
    "plt.hist(data,bins=30,density=True,label='Histogram')\n",
    "\n",
    "# calculate the pdf \n",
    "xmin,xmax = plt.xlim()\n",
    "x = np.linspace(xmin,xmax,100)\n",
    "p = norm.pdf(x,0,1)\n",
    "\n",
    "\n",
    "# Overlay the pdf\n",
    "plt.plot(x,p,'k',linewidth=2,label='Pdf')\n",
    "\n",
    "\n",
    "# label the x-axis and the y-axis\n",
    "plt.xlabel('Value')\n",
    "plt.ylabel('Frequency/Probability')\n",
    "\n",
    "#set the title of the plot \n",
    "plt.title('Histogram with pdf Overlay')\n",
    "\n",
    "# Add a legend\n",
    "plt.legend()\n",
    "\n",
    "#show the plot\n",
    "plt.show()"
   ]
  },
  {
   "cell_type": "markdown",
   "metadata": {},
   "source": [
    "## 17.Create a Seaborn scatter plot of two random arrays, color points based on their position relative to the origin (quadrants), add a legend, label the axes, and set the title as 'Quadrant-wise Scatter Plot'."
   ]
  },
  {
   "cell_type": "code",
   "execution_count": 36,
   "metadata": {},
   "outputs": [
    {
     "data": {
      "image/png": "[encoded data removed]",
      "text/plain": [
       "<Figure size 1000x600 with 1 Axes>"
      ]
     },
     "metadata": {},
     "output_type": "display_data"
    }
   ],
   "source": [
    "import numpy as np\n",
    "import pandas as pd\n",
    "import seaborn as sns \n",
    "import matplotlib.pyplot as plt\n",
    "\n",
    "# step 1: generate two random arrays\n",
    "np.random.seed(0)\n",
    "x = np.random.randn(100)\n",
    "y = np.random.randn(100)\n",
    "\n",
    "# step 2: determine the quadrant for each point\n",
    "def determine_quadrent(x,y):\n",
    "    if x>=0 and y>=0:\n",
    "        return 'Q1'\n",
    "    elif x<0 and y>=0:\n",
    "        return 'Q2'\n",
    "    elif x<0 and y<0:\n",
    "        return 'Q3'\n",
    "    else:\n",
    "        return 'Q4'\n",
    "    \n",
    "quadrants = [determine_quadrent(x[i],y[i]) for i in range(len(x))]\n",
    "\n",
    "# Create a dataframe\n",
    "data = pd.DataFrame({'x':x,'y':y,'quadrants':quadrants})\n",
    "\n",
    "# step 3: create the scatter plot with different colors for each quadrant\n",
    "plt.figure(figsize=(10,6))\n",
    "sns.scatterplot(data,x='x',y='y',hue='quadrants',palette='viridis')\n",
    "\n",
    "# step 4: Add a legend ,label the axes, and set the title\n",
    "\n",
    "plt.legend(title='Quadrant')\n",
    "plt.xlabel('x-axis')\n",
    "plt.ylabel('y-axis')\n",
    "plt.title('Quadrant-wise Scatter plot')\n",
    "\n",
    "# Show the plot\n",
    "plt.show()\n",
    "    "
   ]
  },
  {
   "cell_type": "markdown",
   "metadata": {},
   "source": [
    "### 18.With Bokeh, plot a line chart of a sine wave function, add grid lines, label the axes, and set the title as 'Sine Wave Function'"
   ]
  },
  {
   "cell_type": "code",
   "execution_count": 37,
   "metadata": {},
   "outputs": [
    {
     "name": "stdout",
     "output_type": "stream",
     "text": [
      "Requirement already satisfied: bokeh in c:\\users\\praja\\anaconda3\\lib\\site-packages (3.2.1)\n",
      "Requirement already satisfied: Jinja2>=2.9 in c:\\users\\praja\\anaconda3\\lib\\site-packages (from bokeh) (3.1.2)\n",
      "Requirement already satisfied: contourpy>=1 in c:\\users\\praja\\anaconda3\\lib\\site-packages (from bokeh) (1.0.5)\n",
      "Requirement already satisfied: numpy>=1.16 in c:\\users\\praja\\anaconda3\\lib\\site-packages (from bokeh) (1.24.3)\n",
      "Requirement already satisfied: packaging>=16.8 in c:\\users\\praja\\anaconda3\\lib\\site-packages (from bokeh) (23.1)\n",
      "Requirement already satisfied: pandas>=1.2 in c:\\users\\praja\\anaconda3\\lib\\site-packages (from bokeh) (2.0.3)\n",
      "Requirement already satisfied: pillow>=7.1.0 in c:\\users\\praja\\anaconda3\\lib\\site-packages (from bokeh) (10.3.0)\n",
      "Requirement already satisfied: PyYAML>=3.10 in c:\\users\\praja\\anaconda3\\lib\\site-packages (from bokeh) (6.0)\n",
      "Requirement already satisfied: tornado>=5.1 in c:\\users\\praja\\anaconda3\\lib\\site-packages (from bokeh) (6.3.2)\n",
      "Requirement already satisfied: xyzservices>=2021.09.1 in c:\\users\\praja\\anaconda3\\lib\\site-packages (from bokeh) (2022.9.0)\n",
      "Requirement already satisfied: MarkupSafe>=2.0 in c:\\users\\praja\\anaconda3\\lib\\site-packages (from Jinja2>=2.9->bokeh) (2.1.1)\n",
      "Requirement already satisfied: python-dateutil>=2.8.2 in c:\\users\\praja\\anaconda3\\lib\\site-packages (from pandas>=1.2->bokeh) (2.8.2)\n",
      "Requirement already satisfied: pytz>=2020.1 in c:\\users\\praja\\anaconda3\\lib\\site-packages (from pandas>=1.2->bokeh) (2023.3.post1)\n",
      "Requirement already satisfied: tzdata>=2022.1 in c:\\users\\praja\\anaconda3\\lib\\site-packages (from pandas>=1.2->bokeh) (2023.3)\n",
      "Requirement already satisfied: six>=1.5 in c:\\users\\praja\\anaconda3\\lib\\site-packages (from python-dateutil>=2.8.2->pandas>=1.2->bokeh) (1.16.0)\n",
      "Note: you may need to restart the kernel to use updated packages.\n"
     ]
    }
   ],
   "source": [
    "pip install bokeh"
   ]
  },
  {
   "cell_type": "code",
   "execution_count": 38,
   "metadata": {},
   "outputs": [
    {
     "data": {
      "text/html": [
       "<style>\n",
       "        .bk-notebook-logo {\n",
       "            display: block;\n",
       "            width: 20px;\n",
       "            height: 20px;\n",
       "            background-image: url(data:image/png;base64,iVBORw0KGgoAAAANSUhEUgAAABQAAAAUCAYAAACNiR0NAAAABHNCSVQICAgIfAhkiAAAAAlwSFlzAAALEgAACxIB0t1+/AAAABx0RVh0U29mdHdhcmUAQWRvYmUgRmlyZXdvcmtzIENTNui8sowAAAOkSURBVDiNjZRtaJVlGMd/1/08zzln5zjP1LWcU9N0NkN8m2CYjpgQYQXqSs0I84OLIC0hkEKoPtiH3gmKoiJDU7QpLgoLjLIQCpEsNJ1vqUOdO7ppbuec5+V+rj4ctwzd8IIbbi6u+8f1539dt3A78eXC7QizUF7gyV1fD1Yqg4JWz84yffhm0qkFqBogB9rM8tZdtwVsPUhWhGcFJngGeWrPzHm5oaMmkfEg1usvLFyc8jLRqDOMru7AyC8saQr7GG7f5fvDeH7Ej8CM66nIF+8yngt6HWaKh7k49Soy9nXurCi1o3qUbS3zWfrYeQDTB/Qj6kX6Ybhw4B+bOYoLKCC9H3Nu/leUTZ1JdRWkkn2ldcCamzrcf47KKXdAJllSlxAOkRgyHsGC/zRday5Qld9DyoM4/q/rUoy/CXh3jzOu3bHUVZeU+DEn8FInkPBFlu3+nW3Nw0mk6vCDiWg8CeJaxEwuHS3+z5RgY+YBR6V1Z1nxSOfoaPa4LASWxxdNp+VWTk7+4vzaou8v8PN+xo+KY2xsw6une2frhw05CTYOmQvsEhjhWjn0bmXPjpE1+kplmmkP3suftwTubK9Vq22qKmrBhpY4jvd5afdRA3wGjFAgcnTK2s4hY0/GPNIb0nErGMCRxWOOX64Z8RAC4oCXdklmEvcL8o0BfkNK4lUg9HTl+oPlQxdNo3Mg4Nv175e/1LDGzZen30MEjRUtmXSfiTVu1kK8W4txyV6BMKlbgk3lMwYCiusNy9fVfvvwMxv8Ynl6vxoByANLTWplvuj/nF9m2+PDtt1eiHPBr1oIfhCChQMBw6Aw0UulqTKZdfVvfG7VcfIqLG9bcldL/+pdWTLxLUy8Qq38heUIjh4XlzZxzQm19lLFlr8vdQ97rjZVOLf8nclzckbcD4wxXMidpX30sFd37Fv/GtwwhzhxGVAprjbg0gCAEeIgwCZyTV2Z1REEW8O4py0wsjeloKoMr6iCY6dP92H6Vw/oTyICIthibxjm/DfN9lVz8IqtqKYLUXfoKVMVQVVJOElGjrnnUt9T9wbgp8AyYKaGlqingHZU/uG2NTZSVqwHQTWkx9hxjkpWDaCg6Ckj5qebgBVbT3V3NNXMSiWSDdGV3hrtzla7J+duwPOToIg42ChPQOQjspnSlp1V+Gjdged7+8UN5CRAV7a5EdFNwCjEaBR27b3W890TE7g24NAP/mMDXRWrGoFPQI9ls/MWO2dWFAar/xcOIImbbpA3zgAAAABJRU5ErkJggg==);\n",
       "        }\n",
       "    </style>\n",
       "    <div>\n",
       "        <a href=\"https://bokeh.org\" target=\"_blank\" class=\"bk-notebook-logo\"></a>\n",
       "        <span id=\"a5b0f8b2-9943-4ea6-ad81-6a4af64b4fb9\">Loading BokehJS ...</span>\n",
       "    </div>\n"
      ]
     },
     "metadata": {},
     "output_type": "display_data"
    },
    {
     "data": {
      "application/javascript": "(function(root) {\n  function now() {\n    return new Date();\n  }\n\n  const force = true;\n\n  if (typeof root._bokeh_onload_callbacks === \"undefined\" || force === true) {\n    root._bokeh_onload_callbacks = [];\n    root._bokeh_is_loading = undefined;\n  }\n\nconst JS_MIME_TYPE = 'application/javascript';\n  const HTML_MIME_TYPE = 'text/html';\n  const EXEC_MIME_TYPE = 'application/vnd.bokehjs_exec.v0+json';\n  const CLASS_NAME = 'output_bokeh rendered_html';\n\n  /**\n   * Render data to the DOM node\n   */\n  function render(props, node) {\n    const script = document.createElement(\"script\");\n    node.appendChild(script);\n  }\n\n  /**\n   * Handle when an output is cleared or removed\n   */\n  function handleClearOutput(event, handle) {\n    const cell = handle.cell;\n\n    const id = cell.output_area._bokeh_element_id;\n    const server_id = cell.output_area._bokeh_server_id;\n    // Clean up Bokeh references\n    if (id != null && id in Bokeh.index) {\n      Bokeh.index[id].model.document.clear();\n      delete Bokeh.index[id];\n    }\n\n    if (server_id !== undefined) {\n      // Clean up Bokeh references\n      const cmd_clean = \"from bokeh.io.state import curstate; print(curstate().uuid_to_server['\" + server_id + \"'].get_sessions()[0].document.roots[0]._id)\";\n      cell.notebook.kernel.execute(cmd_clean, {\n        iopub: {\n          output: function(msg) {\n            const id = msg.content.text.trim();\n            if (id in Bokeh.index) {\n              Bokeh.index[id].model.document.clear();\n              delete Bokeh.index[id];\n            }\n          }\n        }\n      });\n      // Destroy server and session\n      const cmd_destroy = \"import bokeh.io.notebook as ion; ion.destroy_server('\" + server_id + \"')\";\n      cell.notebook.kernel.execute(cmd_destroy);\n    }\n  }\n\n  /**\n   * Handle when a new output is added\n   */\n  function handleAddOutput(event, handle) {\n    const output_area = handle.output_area;\n    const output = handle.output;\n\n    // limit handleAddOutput to display_data with EXEC_MIME_TYPE content only\n    if ((output.output_type != \"display_data\") || (!Object.prototype.hasOwnProperty.call(output.data, EXEC_MIME_TYPE))) {\n      return\n    }\n\n    const toinsert = output_area.element.find(\".\" + CLASS_NAME.split(' ')[0]);\n\n    if (output.metadata[EXEC_MIME_TYPE][\"id\"] !== undefined) {\n      toinsert[toinsert.length - 1].firstChild.textContent = output.data[JS_MIME_TYPE];\n      // store reference to embed id on output_area\n      output_area._bokeh_element_id = output.metadata[EXEC_MIME_TYPE][\"id\"];\n    }\n    if (output.metadata[EXEC_MIME_TYPE][\"server_id\"] !== undefined) {\n      const bk_div = document.createElement(\"div\");\n      bk_div.innerHTML = output.data[HTML_MIME_TYPE];\n      const script_attrs = bk_div.children[0].attributes;\n      for (let i = 0; i < script_attrs.length; i++) {\n        toinsert[toinsert.length - 1].firstChild.setAttribute(script_attrs[i].name, script_attrs[i].value);\n        toinsert[toinsert.length - 1].firstChild.textContent = bk_div.children[0].textContent\n      }\n      // store reference to server id on output_area\n      output_area._bokeh_server_id = output.metadata[EXEC_MIME_TYPE][\"server_id\"];\n    }\n  }\n\n  function register_renderer(events, OutputArea) {\n\n    function append_mime(data, metadata, element) {\n      // create a DOM node to render to\n      const toinsert = this.create_output_subarea(\n        metadata,\n        CLASS_NAME,\n        EXEC_MIME_TYPE\n      );\n      this.keyboard_manager.register_events(toinsert);\n      // Render to node\n      const props = {data: data, metadata: metadata[EXEC_MIME_TYPE]};\n      render(props, toinsert[toinsert.length - 1]);\n      element.append(toinsert);\n      return toinsert\n    }\n\n    /* Handle when an output is cleared or removed */\n    events.on('clear_output.CodeCell', handleClearOutput);\n    events.on('delete.Cell', handleClearOutput);\n\n    /* Handle when a new output is added */\n    events.on('output_added.OutputArea', handleAddOutput);\n\n    /**\n     * Register the mime type and append_mime function with output_area\n     */\n    OutputArea.prototype.register_mime_type(EXEC_MIME_TYPE, append_mime, {\n      /* Is output safe? */\n      safe: true,\n      /* Index of renderer in `output_area.display_order` */\n      index: 0\n    });\n  }\n\n  // register the mime type if in Jupyter Notebook environment and previously unregistered\n  if (root.Jupyter !== undefined) {\n    const events = require('base/js/events');\n    const OutputArea = require('notebook/js/outputarea').OutputArea;\n\n    if (OutputArea.prototype.mime_types().indexOf(EXEC_MIME_TYPE) == -1) {\n      register_renderer(events, OutputArea);\n    }\n  }\n  if (typeof (root._bokeh_timeout) === \"undefined\" || force === true) {\n    root._bokeh_timeout = Date.now() + 5000;\n    root._bokeh_failed_load = false;\n  }\n\n  const NB_LOAD_WARNING = {'data': {'text/html':\n     \"<div style='background-color: #fdd'>\\n\"+\n     \"<p>\\n\"+\n     \"BokehJS does not appear to have successfully loaded. If loading BokehJS from CDN, this \\n\"+\n     \"may be due to a slow or bad network connection. Possible fixes:\\n\"+\n     \"</p>\\n\"+\n     \"<ul>\\n\"+\n     \"<li>re-rerun `output_notebook()` to attempt to load from CDN again, or</li>\\n\"+\n     \"<li>use INLINE resources instead, as so:</li>\\n\"+\n     \"</ul>\\n\"+\n     \"<code>\\n\"+\n     \"from bokeh.resources import INLINE\\n\"+\n     \"output_notebook(resources=INLINE)\\n\"+\n     \"</code>\\n\"+\n     \"</div>\"}};\n\n  function display_loaded() {\n    const el = document.getElementById(\"a5b0f8b2-9943-4ea6-ad81-6a4af64b4fb9\");\n    if (el != null) {\n      el.textContent = \"BokehJS is loading...\";\n    }\n    if (root.Bokeh !== undefined) {\n      if (el != null) {\n        el.textContent = \"BokehJS \" + root.Bokeh.version + \" successfully loaded.\";\n      }\n    } else if (Date.now() < root._bokeh_timeout) {\n      setTimeout(display_loaded, 100)\n    }\n  }\n\n  function run_callbacks() {\n    try {\n      root._bokeh_onload_callbacks.forEach(function(callback) {\n        if (callback != null)\n          callback();\n      });\n    } finally {\n      delete root._bokeh_onload_callbacks\n    }\n    console.debug(\"Bokeh: all callbacks have finished\");\n  }\n\n  function load_libs(css_urls, js_urls, callback) {\n    if (css_urls == null) css_urls = [];\n    if (js_urls == null) js_urls = [];\n\n    root._bokeh_onload_callbacks.push(callback);\n    if (root._bokeh_is_loading > 0) {\n      console.debug(\"Bokeh: BokehJS is being loaded, scheduling callback at\", now());\n      return null;\n    }\n    if (js_urls == null || js_urls.length === 0) {\n      run_callbacks();\n      return null;\n    }\n    console.debug(\"Bokeh: BokehJS not loaded, scheduling load and callback at\", now());\n    root._bokeh_is_loading = css_urls.length + js_urls.length;\n\n    function on_load() {\n      root._bokeh_is_loading--;\n      if (root._bokeh_is_loading === 0) {\n        console.debug(\"Bokeh: all BokehJS libraries/stylesheets loaded\");\n        run_callbacks()\n      }\n    }\n\n    function on_error(url) {\n      console.error(\"failed to load \" + url);\n    }\n\n    for (let i = 0; i < css_urls.length; i++) {\n      const url = css_urls[i];\n      const element = document.createElement(\"link\");\n      element.onload = on_load;\n      element.onerror = on_error.bind(null, url);\n      element.rel = \"stylesheet\";\n      element.type = \"text/css\";\n      element.href = url;\n      console.debug(\"Bokeh: injecting link tag for BokehJS stylesheet: \", url);\n      document.body.appendChild(element);\n    }\n\n    for (let i = 0; i < js_urls.length; i++) {\n      const url = js_urls[i];\n      const element = document.createElement('script');\n      element.onload = on_load;\n      element.onerror = on_error.bind(null, url);\n      element.async = false;\n      element.src = url;\n      console.debug(\"Bokeh: injecting script tag for BokehJS library: \", url);\n      document.head.appendChild(element);\n    }\n  };\n\n  function inject_raw_css(css) {\n    const element = document.createElement(\"style\");\n    element.appendChild(document.createTextNode(css));\n    document.body.appendChild(element);\n  }\n\n  const js_urls = [\"https://cdn.bokeh.org/bokeh/release/bokeh-3.2.1.min.js\", \"https://cdn.bokeh.org/bokeh/release/bokeh-gl-3.2.1.min.js\", \"https://cdn.bokeh.org/bokeh/release/bokeh-widgets-3.2.1.min.js\", \"https://cdn.bokeh.org/bokeh/release/bokeh-tables-3.2.1.min.js\", \"https://cdn.bokeh.org/bokeh/release/bokeh-mathjax-3.2.1.min.js\"];\n  const css_urls = [];\n\n  const inline_js = [    function(Bokeh) {\n      Bokeh.set_log_level(\"info\");\n    },\nfunction(Bokeh) {\n    }\n  ];\n\n  function run_inline_js() {\n    if (root.Bokeh !== undefined || force === true) {\n          for (let i = 0; i < inline_js.length; i++) {\n      inline_js[i].call(root, root.Bokeh);\n    }\nif (force === true) {\n        display_loaded();\n      }} else if (Date.now() < root._bokeh_timeout) {\n      setTimeout(run_inline_js, 100);\n    } else if (!root._bokeh_failed_load) {\n      console.log(\"Bokeh: BokehJS failed to load within specified timeout.\");\n      root._bokeh_failed_load = true;\n    } else if (force !== true) {\n      const cell = $(document.getElementById(\"a5b0f8b2-9943-4ea6-ad81-6a4af64b4fb9\")).parents('.cell').data().cell;\n      cell.output_area.append_execute_result(NB_LOAD_WARNING)\n    }\n  }\n\n  if (root._bokeh_is_loading === 0) {\n    console.debug(\"Bokeh: BokehJS loaded, going straight to plotting\");\n    run_inline_js();\n  } else {\n    load_libs(css_urls, js_urls, function() {\n      console.debug(\"Bokeh: BokehJS plotting callback run at\", now());\n      run_inline_js();\n    });\n  }\n}(window));",
      "application/vnd.bokehjs_load.v0+json": ""
     },
     "metadata": {},
     "output_type": "display_data"
    },
    {
     "data": {
      "text/html": [
       "\n",
       "  <div id=\"a9756c36-065a-4135-b2a4-63ca4541f2bd\" data-root-id=\"p1001\" style=\"display: contents;\"></div>\n"
      ]
     },
     "metadata": {},
     "output_type": "display_data"
    },
    {
     "data": {
      "application/javascript": "(function(root) {\n  function embed_document(root) {\n  const docs_json = {\"9587cb72-22bb-4325-82e9-c536a6f30eb5\":{\"version\":\"3.2.1\",\"title\":\"Bokeh Application\",\"roots\":[{\"type\":\"object\",\"name\":\"Figure\",\"id\":\"p1001\",\"attributes\":{\"x_range\":{\"type\":\"object\",\"name\":\"DataRange1d\",\"id\":\"p1002\"},\"y_range\":{\"type\":\"object\",\"name\":\"DataRange1d\",\"id\":\"p1003\"},\"x_scale\":{\"type\":\"object\",\"name\":\"LinearScale\",\"id\":\"p1011\"},\"y_scale\":{\"type\":\"object\",\"name\":\"LinearScale\",\"id\":\"p1012\"},\"title\":{\"type\":\"object\",\"name\":\"Title\",\"id\":\"p1004\",\"attributes\":{\"text\":\"sine wave functionn\"}},\"renderers\":[{\"type\":\"object\",\"name\":\"GlyphRenderer\",\"id\":\"p1036\",\"attributes\":{\"data_source\":{\"type\":\"object\",\"name\":\"ColumnDataSource\",\"id\":\"p1030\",\"attributes\":{\"selected\":{\"type\":\"object\",\"name\":\"Selection\",\"id\":\"p1031\",\"attributes\":{\"indices\":[],\"line_indices\":[]}},\"selection_policy\":{\"type\":\"object\",\"name\":\"UnionRenderers\",\"id\":\"p1032\"},\"data\":{\"type\":\"map\",\"entries\":[[\"x\",{\"type\":\"ndarray\",\"array\":{\"type\":\"bytes\",\"data\":\"AAAAAAAAAACRGkt8Vz/AP5EaS3xXP9A/2qdwOgNf2D+RGkt8Vz/gPzXhXVstT+Q/2qdwOgNf6D9+boMZ2W7sP5EaS3xXP/A/433Ua0JH8j814V1bLU/0P4dE50oYV/Y/2qdwOgNf+D8sC/op7mb6P35ugxnZbvw/0NEMCcR2/j+RGkt8Vz8AQDrMD/RMQwFA433Ua0JHAkCML5njN0sDQDXhXVstTwRA3pIi0yJTBUCHROdKGFcGQDD2q8INWwdA2qdwOgNfCECDWTWy+GIJQCwL+inuZgpA1by+oeNqC0B+boMZ2W4MQCcgSJHOcg1A0NEMCcR2DkB5g9GAuXoPQJEaS3xXPxBAZnMtOFLBEEA6zA/0TEMRQA8l8q9HxRFA433Ua0JHEkC41rYnPckSQIwvmeM3SxNAYYh7nzLNE0A14V1bLU8UQAo6QBco0RRA3pIi0yJTFUCz6wSPHdUVQIdE50oYVxZAXJ3JBhPZFkAw9qvCDVsXQAVPjn4I3RdA2qdwOgNfGECuAFP2/eAYQINZNbL4YhlAV7IXbvPkGUAsC/op7mYaQABk3OXo6BpA1by+oeNqG0CpFaFd3uwbQH5ugxnZbhxAUsdl1dPwHEAnIEiRznIdQPt4Kk3J9B1A0NEMCcR2HkCkKu/EvvgeQHmD0YC5eh9ATdyzPLT8H0CRGkt8Vz8gQPtGPNpUgCBAZnMtOFLBIEDQnx6WTwIhQDrMD/RMQyFApPgAUkqEIUAPJfKvR8UhQHlR4w1FBiJA433Ua0JHIkBNqsXJP4giQLjWtic9ySJAIgOohToKI0CML5njN0sjQPZbikE1jCNAYYh7nzLNI0DLtGz9Lw4kQDXhXVstTyRAoA1PuSqQJEAKOkAXKNEkQHRmMXUlEiVA3pIi0yJTJUBJvxMxIJQlQLPrBI8d1SVAHRj27BoWJkCHROdKGFcmQPJw2KgVmCZAXJ3JBhPZJkDGybpkEBonQDD2q8INWydAmyKdIAucJ0AFT45+CN0nQG97f9wFHihA2qdwOgNfKEBE1GGYAKAoQK4AU/b94ChAGC1EVPshKUA=\"},\"shape\":[100],\"dtype\":\"float64\",\"order\":\"little\"}],[\"y\",{\"type\":\"ndarray\",\"array\":{\"type\":\"bytes\",\"data\":\"AAAAAAAAAADwgwJ4LjTAP5qI2QHPEtA/+5MNU1HJ1z8ZTT7q2B3fP0aFmgwa+eI/ABg/lCAV5j+IQCEcMdboP3fOhmLzMOs/EyzujrQb7T/9Izwlj47uPxccgYyLg+8/g6xao7j27z9mZrL8O+bvP7+X94FZUu8/xVNiW3I97j9RB8Ai+6vsP5FWKYlppOo/oSg6uxkv6D/Sh2bxK1blPyZGRbpaJeI/8qg+VZVT3T/4C4p0qOPVP+UppLIiM8w/3FNHxZdVuD/J23zJpD6gv+3ENsZjOcS/wo12/ecH0r/dgWKM2KjZv2MTsJELcOC/83ixWvXH47+358MBZM7mv5eCD4nhdum/rExY6Hq267+TIxAn7YPtvwSssILL1+6/70I4BJ6s77/vOc8G+P7vvzTGy1KGze+/3176khQZ77/C8a4NiuTtvzGcHq/dNOy/l0FFlgER6r+EGZN4xoHnvx8WPFK3keS/Cli7+O1M4b+HQNqEwoHbv9kfIiFb+NO/gKyggGI5yL8EhrXMjDywvyGGtcyMPLA/jqyggGI5yD/gHyIhW/jTP4BA2oTCgds/DVi7+O1M4T8cFjxSt5HkP4cZk3jGgec/lUFFlgER6j8ynB6v3TTsP8Hxrg2K5O0/4F76khQZ7z80xstShs3vP+85zwb4/u8/8EI4BJ6s7z8DrLCCy9fuP5UjECftg+0/p0xY6Hq26z+Vgg+J4XbpP7fnwwFkzuY/9nixWvXH4z9dE7CRC3DgP9eBYozYqNk/w412/ecH0j/+xDbGYznEP0/bfMmkPqA/+FNHxZdVuL/UKaSyIjPMv+gLinSo49W/+Kg+VZVT3b8lRkW6WiXiv8+HZvErVuW/pig6uxkv6L+TVimJaaTqv1EHwCL7q+y/xFNiW3I97r/Al/eBWVLvv2Zmsvw75u+/g6xao7j2778YHIGMi4Pvv/sjPCWPju6/EyzujrQb7b94zoZi8zDrv4xAIRwx1ui//Bc/lCAV5r9GhZoMGvnivx5NPurYHd+/65MNU1HJ17+SiNkBzxLQv/GDAnguNMC/B1wUMyamwbw=\"},\"shape\":[100],\"dtype\":\"float64\",\"order\":\"little\"}]]}}},\"view\":{\"type\":\"object\",\"name\":\"CDSView\",\"id\":\"p1037\",\"attributes\":{\"filter\":{\"type\":\"object\",\"name\":\"AllIndices\",\"id\":\"p1038\"}}},\"glyph\":{\"type\":\"object\",\"name\":\"Line\",\"id\":\"p1033\",\"attributes\":{\"x\":{\"type\":\"field\",\"field\":\"x\"},\"y\":{\"type\":\"field\",\"field\":\"y\"},\"line_color\":\"#1f77b4\",\"line_width\":2}},\"nonselection_glyph\":{\"type\":\"object\",\"name\":\"Line\",\"id\":\"p1034\",\"attributes\":{\"x\":{\"type\":\"field\",\"field\":\"x\"},\"y\":{\"type\":\"field\",\"field\":\"y\"},\"line_color\":\"#1f77b4\",\"line_alpha\":0.1,\"line_width\":2}},\"muted_glyph\":{\"type\":\"object\",\"name\":\"Line\",\"id\":\"p1035\",\"attributes\":{\"x\":{\"type\":\"field\",\"field\":\"x\"},\"y\":{\"type\":\"field\",\"field\":\"y\"},\"line_color\":\"#1f77b4\",\"line_alpha\":0.2,\"line_width\":2}}}}],\"toolbar\":{\"type\":\"object\",\"name\":\"Toolbar\",\"id\":\"p1010\",\"attributes\":{\"tools\":[{\"type\":\"object\",\"name\":\"PanTool\",\"id\":\"p1023\"},{\"type\":\"object\",\"name\":\"WheelZoomTool\",\"id\":\"p1024\"},{\"type\":\"object\",\"name\":\"BoxZoomTool\",\"id\":\"p1025\",\"attributes\":{\"overlay\":{\"type\":\"object\",\"name\":\"BoxAnnotation\",\"id\":\"p1026\",\"attributes\":{\"syncable\":false,\"level\":\"overlay\",\"visible\":false,\"left_units\":\"canvas\",\"right_units\":\"canvas\",\"bottom_units\":\"canvas\",\"top_units\":\"canvas\",\"line_color\":\"black\",\"line_alpha\":1.0,\"line_width\":2,\"line_dash\":[4,4],\"fill_color\":\"lightgrey\",\"fill_alpha\":0.5}}}},{\"type\":\"object\",\"name\":\"SaveTool\",\"id\":\"p1027\"},{\"type\":\"object\",\"name\":\"ResetTool\",\"id\":\"p1028\"},{\"type\":\"object\",\"name\":\"HelpTool\",\"id\":\"p1029\"}]}},\"left\":[{\"type\":\"object\",\"name\":\"LinearAxis\",\"id\":\"p1018\",\"attributes\":{\"ticker\":{\"type\":\"object\",\"name\":\"BasicTicker\",\"id\":\"p1019\",\"attributes\":{\"mantissas\":[1,2,5]}},\"formatter\":{\"type\":\"object\",\"name\":\"BasicTickFormatter\",\"id\":\"p1020\"},\"axis_label\":\"y-axis\",\"major_label_policy\":{\"type\":\"object\",\"name\":\"AllLabels\",\"id\":\"p1021\"}}}],\"below\":[{\"type\":\"object\",\"name\":\"LinearAxis\",\"id\":\"p1013\",\"attributes\":{\"ticker\":{\"type\":\"object\",\"name\":\"BasicTicker\",\"id\":\"p1014\",\"attributes\":{\"mantissas\":[1,2,5]}},\"formatter\":{\"type\":\"object\",\"name\":\"BasicTickFormatter\",\"id\":\"p1015\"},\"axis_label\":\"x-axis\",\"major_label_policy\":{\"type\":\"object\",\"name\":\"AllLabels\",\"id\":\"p1016\"}}}],\"center\":[{\"type\":\"object\",\"name\":\"Grid\",\"id\":\"p1017\",\"attributes\":{\"axis\":{\"id\":\"p1013\"},\"grid_line_color\":\"gray\"}},{\"type\":\"object\",\"name\":\"Grid\",\"id\":\"p1022\",\"attributes\":{\"dimension\":1,\"axis\":{\"id\":\"p1018\"},\"grid_line_color\":\"gray\"}},{\"type\":\"object\",\"name\":\"Legend\",\"id\":\"p1039\",\"attributes\":{\"items\":[{\"type\":\"object\",\"name\":\"LegendItem\",\"id\":\"p1040\",\"attributes\":{\"label\":{\"type\":\"value\",\"value\":\"sine wave\"},\"renderers\":[{\"id\":\"p1036\"}]}}]}}]}}]}};\n  const render_items = [{\"docid\":\"9587cb72-22bb-4325-82e9-c536a6f30eb5\",\"roots\":{\"p1001\":\"a9756c36-065a-4135-b2a4-63ca4541f2bd\"},\"root_ids\":[\"p1001\"]}];\n  root.Bokeh.embed.embed_items_notebook(docs_json, render_items);\n  }\n  if (root.Bokeh !== undefined) {\n    embed_document(root);\n  } else {\n    let attempts = 0;\n    const timer = setInterval(function(root) {\n      if (root.Bokeh !== undefined) {\n        clearInterval(timer);\n        embed_document(root);\n      } else {\n        attempts++;\n        if (attempts > 100) {\n          clearInterval(timer);\n          console.log(\"Bokeh: ERROR: Unable to run BokehJS code because BokehJS library is missing\");\n        }\n      }\n    }, 10, root)\n  }\n})(window);",
      "application/vnd.bokehjs_exec.v0+json": ""
     },
     "metadata": {
      "application/vnd.bokehjs_exec.v0+json": {
       "id": "p1001"
      }
     },
     "output_type": "display_data"
    }
   ],
   "source": [
    "import numpy as np\n",
    "from bokeh.plotting import figure,show\n",
    "from bokeh.io import output_notebook\n",
    "\n",
    "# create the sine wave data\n",
    "x = np.linspace(0,4 * np.pi,100) # create 100 points from 0 to 4*pi\n",
    "y = np.sin(x)  # compute the sine of each point\n",
    "\n",
    "# create a bokeh plot and customise it\n",
    "output_notebook() # Display plots in the notebook\n",
    "\n",
    "p = figure(title='sine wave functionn',x_axis_label = 'x-axis',y_axis_label = 'y-axis')\n",
    "\n",
    "# add a line renderer with legend and line thickness\n",
    "p.line(x,y,legend_label = 'sine wave', line_width=2)\n",
    "\n",
    "# customize grid lines\n",
    "p.xgrid.grid_line_color = 'gray'\n",
    "p.ygrid.grid_line_color = 'gray'\n",
    "\n",
    "# Display the plot\n",
    "show(p)"
   ]
  },
  {
   "cell_type": "markdown",
   "metadata": {},
   "source": [
    "## 19.Using Bokeh, generate a bar chart of randomly generated categorical data, color bars based on their values, add hover tooltips to display exact values, label the axes, and set the title as 'Random Categorical Bar Chart'."
   ]
  },
  {
   "cell_type": "code",
   "execution_count": 39,
   "metadata": {},
   "outputs": [
    {
     "data": {
      "text/html": [
       "<style>\n",
       "        .bk-notebook-logo {\n",
       "            display: block;\n",
       "            width: 20px;\n",
       "            height: 20px;\n",
       "            background-image: url(data:image/png;base64,iVBORw0KGgoAAAANSUhEUgAAABQAAAAUCAYAAACNiR0NAAAABHNCSVQICAgIfAhkiAAAAAlwSFlzAAALEgAACxIB0t1+/AAAABx0RVh0U29mdHdhcmUAQWRvYmUgRmlyZXdvcmtzIENTNui8sowAAAOkSURBVDiNjZRtaJVlGMd/1/08zzln5zjP1LWcU9N0NkN8m2CYjpgQYQXqSs0I84OLIC0hkEKoPtiH3gmKoiJDU7QpLgoLjLIQCpEsNJ1vqUOdO7ppbuec5+V+rj4ctwzd8IIbbi6u+8f1539dt3A78eXC7QizUF7gyV1fD1Yqg4JWz84yffhm0qkFqBogB9rM8tZdtwVsPUhWhGcFJngGeWrPzHm5oaMmkfEg1usvLFyc8jLRqDOMru7AyC8saQr7GG7f5fvDeH7Ej8CM66nIF+8yngt6HWaKh7k49Soy9nXurCi1o3qUbS3zWfrYeQDTB/Qj6kX6Ybhw4B+bOYoLKCC9H3Nu/leUTZ1JdRWkkn2ldcCamzrcf47KKXdAJllSlxAOkRgyHsGC/zRday5Qld9DyoM4/q/rUoy/CXh3jzOu3bHUVZeU+DEn8FInkPBFlu3+nW3Nw0mk6vCDiWg8CeJaxEwuHS3+z5RgY+YBR6V1Z1nxSOfoaPa4LASWxxdNp+VWTk7+4vzaou8v8PN+xo+KY2xsw6une2frhw05CTYOmQvsEhjhWjn0bmXPjpE1+kplmmkP3suftwTubK9Vq22qKmrBhpY4jvd5afdRA3wGjFAgcnTK2s4hY0/GPNIb0nErGMCRxWOOX64Z8RAC4oCXdklmEvcL8o0BfkNK4lUg9HTl+oPlQxdNo3Mg4Nv175e/1LDGzZen30MEjRUtmXSfiTVu1kK8W4txyV6BMKlbgk3lMwYCiusNy9fVfvvwMxv8Ynl6vxoByANLTWplvuj/nF9m2+PDtt1eiHPBr1oIfhCChQMBw6Aw0UulqTKZdfVvfG7VcfIqLG9bcldL/+pdWTLxLUy8Qq38heUIjh4XlzZxzQm19lLFlr8vdQ97rjZVOLf8nclzckbcD4wxXMidpX30sFd37Fv/GtwwhzhxGVAprjbg0gCAEeIgwCZyTV2Z1REEW8O4py0wsjeloKoMr6iCY6dP92H6Vw/oTyICIthibxjm/DfN9lVz8IqtqKYLUXfoKVMVQVVJOElGjrnnUt9T9wbgp8AyYKaGlqingHZU/uG2NTZSVqwHQTWkx9hxjkpWDaCg6Ckj5qebgBVbT3V3NNXMSiWSDdGV3hrtzla7J+duwPOToIg42ChPQOQjspnSlp1V+Gjdged7+8UN5CRAV7a5EdFNwCjEaBR27b3W890TE7g24NAP/mMDXRWrGoFPQI9ls/MWO2dWFAar/xcOIImbbpA3zgAAAABJRU5ErkJggg==);\n",
       "        }\n",
       "    </style>\n",
       "    <div>\n",
       "        <a href=\"https://bokeh.org\" target=\"_blank\" class=\"bk-notebook-logo\"></a>\n",
       "        <span id=\"d172891e-136e-45a1-b2c9-3628632a0d64\">Loading BokehJS ...</span>\n",
       "    </div>\n"
      ]
     },
     "metadata": {},
     "output_type": "display_data"
    },
    {
     "data": {
      "application/javascript": "(function(root) {\n  function now() {\n    return new Date();\n  }\n\n  const force = true;\n\n  if (typeof root._bokeh_onload_callbacks === \"undefined\" || force === true) {\n    root._bokeh_onload_callbacks = [];\n    root._bokeh_is_loading = undefined;\n  }\n\nconst JS_MIME_TYPE = 'application/javascript';\n  const HTML_MIME_TYPE = 'text/html';\n  const EXEC_MIME_TYPE = 'application/vnd.bokehjs_exec.v0+json';\n  const CLASS_NAME = 'output_bokeh rendered_html';\n\n  /**\n   * Render data to the DOM node\n   */\n  function render(props, node) {\n    const script = document.createElement(\"script\");\n    node.appendChild(script);\n  }\n\n  /**\n   * Handle when an output is cleared or removed\n   */\n  function handleClearOutput(event, handle) {\n    const cell = handle.cell;\n\n    const id = cell.output_area._bokeh_element_id;\n    const server_id = cell.output_area._bokeh_server_id;\n    // Clean up Bokeh references\n    if (id != null && id in Bokeh.index) {\n      Bokeh.index[id].model.document.clear();\n      delete Bokeh.index[id];\n    }\n\n    if (server_id !== undefined) {\n      // Clean up Bokeh references\n      const cmd_clean = \"from bokeh.io.state import curstate; print(curstate().uuid_to_server['\" + server_id + \"'].get_sessions()[0].document.roots[0]._id)\";\n      cell.notebook.kernel.execute(cmd_clean, {\n        iopub: {\n          output: function(msg) {\n            const id = msg.content.text.trim();\n            if (id in Bokeh.index) {\n              Bokeh.index[id].model.document.clear();\n              delete Bokeh.index[id];\n            }\n          }\n        }\n      });\n      // Destroy server and session\n      const cmd_destroy = \"import bokeh.io.notebook as ion; ion.destroy_server('\" + server_id + \"')\";\n      cell.notebook.kernel.execute(cmd_destroy);\n    }\n  }\n\n  /**\n   * Handle when a new output is added\n   */\n  function handleAddOutput(event, handle) {\n    const output_area = handle.output_area;\n    const output = handle.output;\n\n    // limit handleAddOutput to display_data with EXEC_MIME_TYPE content only\n    if ((output.output_type != \"display_data\") || (!Object.prototype.hasOwnProperty.call(output.data, EXEC_MIME_TYPE))) {\n      return\n    }\n\n    const toinsert = output_area.element.find(\".\" + CLASS_NAME.split(' ')[0]);\n\n    if (output.metadata[EXEC_MIME_TYPE][\"id\"] !== undefined) {\n      toinsert[toinsert.length - 1].firstChild.textContent = output.data[JS_MIME_TYPE];\n      // store reference to embed id on output_area\n      output_area._bokeh_element_id = output.metadata[EXEC_MIME_TYPE][\"id\"];\n    }\n    if (output.metadata[EXEC_MIME_TYPE][\"server_id\"] !== undefined) {\n      const bk_div = document.createElement(\"div\");\n      bk_div.innerHTML = output.data[HTML_MIME_TYPE];\n      const script_attrs = bk_div.children[0].attributes;\n      for (let i = 0; i < script_attrs.length; i++) {\n        toinsert[toinsert.length - 1].firstChild.setAttribute(script_attrs[i].name, script_attrs[i].value);\n        toinsert[toinsert.length - 1].firstChild.textContent = bk_div.children[0].textContent\n      }\n      // store reference to server id on output_area\n      output_area._bokeh_server_id = output.metadata[EXEC_MIME_TYPE][\"server_id\"];\n    }\n  }\n\n  function register_renderer(events, OutputArea) {\n\n    function append_mime(data, metadata, element) {\n      // create a DOM node to render to\n      const toinsert = this.create_output_subarea(\n        metadata,\n        CLASS_NAME,\n        EXEC_MIME_TYPE\n      );\n      this.keyboard_manager.register_events(toinsert);\n      // Render to node\n      const props = {data: data, metadata: metadata[EXEC_MIME_TYPE]};\n      render(props, toinsert[toinsert.length - 1]);\n      element.append(toinsert);\n      return toinsert\n    }\n\n    /* Handle when an output is cleared or removed */\n    events.on('clear_output.CodeCell', handleClearOutput);\n    events.on('delete.Cell', handleClearOutput);\n\n    /* Handle when a new output is added */\n    events.on('output_added.OutputArea', handleAddOutput);\n\n    /**\n     * Register the mime type and append_mime function with output_area\n     */\n    OutputArea.prototype.register_mime_type(EXEC_MIME_TYPE, append_mime, {\n      /* Is output safe? */\n      safe: true,\n      /* Index of renderer in `output_area.display_order` */\n      index: 0\n    });\n  }\n\n  // register the mime type if in Jupyter Notebook environment and previously unregistered\n  if (root.Jupyter !== undefined) {\n    const events = require('base/js/events');\n    const OutputArea = require('notebook/js/outputarea').OutputArea;\n\n    if (OutputArea.prototype.mime_types().indexOf(EXEC_MIME_TYPE) == -1) {\n      register_renderer(events, OutputArea);\n    }\n  }\n  if (typeof (root._bokeh_timeout) === \"undefined\" || force === true) {\n    root._bokeh_timeout = Date.now() + 5000;\n    root._bokeh_failed_load = false;\n  }\n\n  const NB_LOAD_WARNING = {'data': {'text/html':\n     \"<div style='background-color: #fdd'>\\n\"+\n     \"<p>\\n\"+\n     \"BokehJS does not appear to have successfully loaded. If loading BokehJS from CDN, this \\n\"+\n     \"may be due to a slow or bad network connection. Possible fixes:\\n\"+\n     \"</p>\\n\"+\n     \"<ul>\\n\"+\n     \"<li>re-rerun `output_notebook()` to attempt to load from CDN again, or</li>\\n\"+\n     \"<li>use INLINE resources instead, as so:</li>\\n\"+\n     \"</ul>\\n\"+\n     \"<code>\\n\"+\n     \"from bokeh.resources import INLINE\\n\"+\n     \"output_notebook(resources=INLINE)\\n\"+\n     \"</code>\\n\"+\n     \"</div>\"}};\n\n  function display_loaded() {\n    const el = document.getElementById(\"d172891e-136e-45a1-b2c9-3628632a0d64\");\n    if (el != null) {\n      el.textContent = \"BokehJS is loading...\";\n    }\n    if (root.Bokeh !== undefined) {\n      if (el != null) {\n        el.textContent = \"BokehJS \" + root.Bokeh.version + \" successfully loaded.\";\n      }\n    } else if (Date.now() < root._bokeh_timeout) {\n      setTimeout(display_loaded, 100)\n    }\n  }\n\n  function run_callbacks() {\n    try {\n      root._bokeh_onload_callbacks.forEach(function(callback) {\n        if (callback != null)\n          callback();\n      });\n    } finally {\n      delete root._bokeh_onload_callbacks\n    }\n    console.debug(\"Bokeh: all callbacks have finished\");\n  }\n\n  function load_libs(css_urls, js_urls, callback) {\n    if (css_urls == null) css_urls = [];\n    if (js_urls == null) js_urls = [];\n\n    root._bokeh_onload_callbacks.push(callback);\n    if (root._bokeh_is_loading > 0) {\n      console.debug(\"Bokeh: BokehJS is being loaded, scheduling callback at\", now());\n      return null;\n    }\n    if (js_urls == null || js_urls.length === 0) {\n      run_callbacks();\n      return null;\n    }\n    console.debug(\"Bokeh: BokehJS not loaded, scheduling load and callback at\", now());\n    root._bokeh_is_loading = css_urls.length + js_urls.length;\n\n    function on_load() {\n      root._bokeh_is_loading--;\n      if (root._bokeh_is_loading === 0) {\n        console.debug(\"Bokeh: all BokehJS libraries/stylesheets loaded\");\n        run_callbacks()\n      }\n    }\n\n    function on_error(url) {\n      console.error(\"failed to load \" + url);\n    }\n\n    for (let i = 0; i < css_urls.length; i++) {\n      const url = css_urls[i];\n      const element = document.createElement(\"link\");\n      element.onload = on_load;\n      element.onerror = on_error.bind(null, url);\n      element.rel = \"stylesheet\";\n      element.type = \"text/css\";\n      element.href = url;\n      console.debug(\"Bokeh: injecting link tag for BokehJS stylesheet: \", url);\n      document.body.appendChild(element);\n    }\n\n    for (let i = 0; i < js_urls.length; i++) {\n      const url = js_urls[i];\n      const element = document.createElement('script');\n      element.onload = on_load;\n      element.onerror = on_error.bind(null, url);\n      element.async = false;\n      element.src = url;\n      console.debug(\"Bokeh: injecting script tag for BokehJS library: \", url);\n      document.head.appendChild(element);\n    }\n  };\n\n  function inject_raw_css(css) {\n    const element = document.createElement(\"style\");\n    element.appendChild(document.createTextNode(css));\n    document.body.appendChild(element);\n  }\n\n  const js_urls = [\"https://cdn.bokeh.org/bokeh/release/bokeh-3.2.1.min.js\", \"https://cdn.bokeh.org/bokeh/release/bokeh-gl-3.2.1.min.js\", \"https://cdn.bokeh.org/bokeh/release/bokeh-widgets-3.2.1.min.js\", \"https://cdn.bokeh.org/bokeh/release/bokeh-tables-3.2.1.min.js\", \"https://cdn.bokeh.org/bokeh/release/bokeh-mathjax-3.2.1.min.js\"];\n  const css_urls = [];\n\n  const inline_js = [    function(Bokeh) {\n      Bokeh.set_log_level(\"info\");\n    },\nfunction(Bokeh) {\n    }\n  ];\n\n  function run_inline_js() {\n    if (root.Bokeh !== undefined || force === true) {\n          for (let i = 0; i < inline_js.length; i++) {\n      inline_js[i].call(root, root.Bokeh);\n    }\nif (force === true) {\n        display_loaded();\n      }} else if (Date.now() < root._bokeh_timeout) {\n      setTimeout(run_inline_js, 100);\n    } else if (!root._bokeh_failed_load) {\n      console.log(\"Bokeh: BokehJS failed to load within specified timeout.\");\n      root._bokeh_failed_load = true;\n    } else if (force !== true) {\n      const cell = $(document.getElementById(\"d172891e-136e-45a1-b2c9-3628632a0d64\")).parents('.cell').data().cell;\n      cell.output_area.append_execute_result(NB_LOAD_WARNING)\n    }\n  }\n\n  if (root._bokeh_is_loading === 0) {\n    console.debug(\"Bokeh: BokehJS loaded, going straight to plotting\");\n    run_inline_js();\n  } else {\n    load_libs(css_urls, js_urls, function() {\n      console.debug(\"Bokeh: BokehJS plotting callback run at\", now());\n      run_inline_js();\n    });\n  }\n}(window));",
      "application/vnd.bokehjs_load.v0+json": ""
     },
     "metadata": {},
     "output_type": "display_data"
    },
    {
     "data": {
      "text/html": [
       "\n",
       "  <div id=\"e8208a1d-6b83-4247-8bb7-f791908c7445\" data-root-id=\"p1046\" style=\"display: contents;\"></div>\n"
      ]
     },
     "metadata": {},
     "output_type": "display_data"
    },
    {
     "data": {
      "application/javascript": "(function(root) {\n  function embed_document(root) {\n  const docs_json = {\"9a0ea3b5-6c97-4ed9-a36a-572d258a2830\":{\"version\":\"3.2.1\",\"title\":\"Bokeh Application\",\"roots\":[{\"type\":\"object\",\"name\":\"Figure\",\"id\":\"p1046\",\"attributes\":{\"x_range\":{\"type\":\"object\",\"name\":\"FactorRange\",\"id\":\"p1056\",\"attributes\":{\"factors\":[\"A\",\"B\",\"C\",\"D\",\"E\"]}},\"y_range\":{\"type\":\"object\",\"name\":\"DataRange1d\",\"id\":\"p1048\"},\"x_scale\":{\"type\":\"object\",\"name\":\"CategoricalScale\",\"id\":\"p1057\"},\"y_scale\":{\"type\":\"object\",\"name\":\"LinearScale\",\"id\":\"p1058\"},\"title\":{\"type\":\"object\",\"name\":\"Title\",\"id\":\"p1049\",\"attributes\":{\"text\":\"Random categorical bar chart\"}},\"renderers\":[{\"type\":\"object\",\"name\":\"GlyphRenderer\",\"id\":\"p1076\",\"attributes\":{\"data_source\":{\"type\":\"object\",\"name\":\"ColumnDataSource\",\"id\":\"p1043\",\"attributes\":{\"selected\":{\"type\":\"object\",\"name\":\"Selection\",\"id\":\"p1044\",\"attributes\":{\"indices\":[],\"line_indices\":[]}},\"selection_policy\":{\"type\":\"object\",\"name\":\"UnionRenderers\",\"id\":\"p1045\"},\"data\":{\"type\":\"map\",\"entries\":[[\"index\",{\"type\":\"ndarray\",\"array\":{\"type\":\"bytes\",\"data\":\"AAAAAAEAAAACAAAAAwAAAAQAAAA=\"},\"shape\":[5],\"dtype\":\"int32\",\"order\":\"little\"}],[\"categories\",{\"type\":\"ndarray\",\"array\":[\"A\",\"B\",\"C\",\"D\",\"E\"],\"shape\":[5],\"dtype\":\"object\",\"order\":\"little\"}],[\"values\",{\"type\":\"ndarray\",\"array\":{\"type\":\"bytes\",\"data\":\"JAAAADsAAAAyAAAASgAAAC0AAAA=\"},\"shape\":[5],\"dtype\":\"int32\",\"order\":\"little\"}]]}}},\"view\":{\"type\":\"object\",\"name\":\"CDSView\",\"id\":\"p1077\",\"attributes\":{\"filter\":{\"type\":\"object\",\"name\":\"AllIndices\",\"id\":\"p1078\"}}},\"glyph\":{\"type\":\"object\",\"name\":\"VBar\",\"id\":\"p1073\",\"attributes\":{\"x\":{\"type\":\"field\",\"field\":\"categories\"},\"width\":{\"type\":\"value\",\"value\":0.9},\"top\":{\"type\":\"field\",\"field\":\"values\"},\"line_color\":{\"type\":\"value\",\"value\":\"white\"},\"fill_color\":{\"type\":\"field\",\"field\":\"categories\",\"transform\":{\"type\":\"object\",\"name\":\"CategoricalColorMapper\",\"id\":\"p1069\",\"attributes\":{\"palette\":[\"#440154\",\"#440255\",\"#440357\",\"#450558\",\"#45065A\",\"#45085B\",\"#46095C\",\"#460B5E\",\"#460C5F\",\"#460E61\",\"#470F62\",\"#471163\",\"#471265\",\"#471466\",\"#471567\",\"#471669\",\"#47186A\",\"#48196B\",\"#481A6C\",\"#481C6E\",\"#481D6F\",\"#481E70\",\"#482071\",\"#482172\",\"#482273\",\"#482374\",\"#472575\",\"#472676\",\"#472777\",\"#472878\",\"#472A79\",\"#472B7A\",\"#472C7B\",\"#462D7C\",\"#462F7C\",\"#46307D\",\"#46317E\",\"#45327F\",\"#45347F\",\"#453580\",\"#453681\",\"#443781\",\"#443982\",\"#433A83\",\"#433B83\",\"#433C84\",\"#423D84\",\"#423E85\",\"#424085\",\"#414186\",\"#414286\",\"#404387\",\"#404487\",\"#3F4587\",\"#3F4788\",\"#3E4888\",\"#3E4989\",\"#3D4A89\",\"#3D4B89\",\"#3D4C89\",\"#3C4D8A\",\"#3C4E8A\",\"#3B508A\",\"#3B518A\",\"#3A528B\",\"#3A538B\",\"#39548B\",\"#39558B\",\"#38568B\",\"#38578C\",\"#37588C\",\"#37598C\",\"#365A8C\",\"#365B8C\",\"#355C8C\",\"#355D8C\",\"#345E8D\",\"#345F8D\",\"#33608D\",\"#33618D\",\"#32628D\",\"#32638D\",\"#31648D\",\"#31658D\",\"#31668D\",\"#30678D\",\"#30688D\",\"#2F698D\",\"#2F6A8D\",\"#2E6B8E\",\"#2E6C8E\",\"#2E6D8E\",\"#2D6E8E\",\"#2D6F8E\",\"#2C708E\",\"#2C718E\",\"#2C728E\",\"#2B738E\",\"#2B748E\",\"#2A758E\",\"#2A768E\",\"#2A778E\",\"#29788E\",\"#29798E\",\"#287A8E\",\"#287A8E\",\"#287B8E\",\"#277C8E\",\"#277D8E\",\"#277E8E\",\"#267F8E\",\"#26808E\",\"#26818E\",\"#25828E\",\"#25838D\",\"#24848D\",\"#24858D\",\"#24868D\",\"#23878D\",\"#23888D\",\"#23898D\",\"#22898D\",\"#228A8D\",\"#228B8D\",\"#218C8D\",\"#218D8C\",\"#218E8C\",\"#208F8C\",\"#20908C\",\"#20918C\",\"#1F928C\",\"#1F938B\",\"#1F948B\",\"#1F958B\",\"#1F968B\",\"#1E978A\",\"#1E988A\",\"#1E998A\",\"#1E998A\",\"#1E9A89\",\"#1E9B89\",\"#1E9C89\",\"#1E9D88\",\"#1E9E88\",\"#1E9F88\",\"#1EA087\",\"#1FA187\",\"#1FA286\",\"#1FA386\",\"#20A485\",\"#20A585\",\"#21A685\",\"#21A784\",\"#22A784\",\"#23A883\",\"#23A982\",\"#24AA82\",\"#25AB81\",\"#26AC81\",\"#27AD80\",\"#28AE7F\",\"#29AF7F\",\"#2AB07E\",\"#2BB17D\",\"#2CB17D\",\"#2EB27C\",\"#2FB37B\",\"#30B47A\",\"#32B57A\",\"#33B679\",\"#35B778\",\"#36B877\",\"#38B976\",\"#39B976\",\"#3BBA75\",\"#3DBB74\",\"#3EBC73\",\"#40BD72\",\"#42BE71\",\"#44BE70\",\"#45BF6F\",\"#47C06E\",\"#49C16D\",\"#4BC26C\",\"#4DC26B\",\"#4FC369\",\"#51C468\",\"#53C567\",\"#55C666\",\"#57C665\",\"#59C764\",\"#5BC862\",\"#5EC961\",\"#60C960\",\"#62CA5F\",\"#64CB5D\",\"#67CC5C\",\"#69CC5B\",\"#6BCD59\",\"#6DCE58\",\"#70CE56\",\"#72CF55\",\"#74D054\",\"#77D052\",\"#79D151\",\"#7CD24F\",\"#7ED24E\",\"#81D34C\",\"#83D34B\",\"#86D449\",\"#88D547\",\"#8BD546\",\"#8DD644\",\"#90D643\",\"#92D741\",\"#95D73F\",\"#97D83E\",\"#9AD83C\",\"#9DD93A\",\"#9FD938\",\"#A2DA37\",\"#A5DA35\",\"#A7DB33\",\"#AADB32\",\"#ADDC30\",\"#AFDC2E\",\"#B2DD2C\",\"#B5DD2B\",\"#B7DD29\",\"#BADE27\",\"#BDDE26\",\"#BFDF24\",\"#C2DF22\",\"#C5DF21\",\"#C7E01F\",\"#CAE01E\",\"#CDE01D\",\"#CFE11C\",\"#D2E11B\",\"#D4E11A\",\"#D7E219\",\"#DAE218\",\"#DCE218\",\"#DFE318\",\"#E1E318\",\"#E4E318\",\"#E7E419\",\"#E9E419\",\"#ECE41A\",\"#EEE51B\",\"#F1E51C\",\"#F3E51E\",\"#F6E61F\",\"#F8E621\",\"#FAE622\",\"#FDE724\"],\"factors\":[\"A\",\"B\",\"C\",\"D\",\"E\"]}}}}},\"nonselection_glyph\":{\"type\":\"object\",\"name\":\"VBar\",\"id\":\"p1074\",\"attributes\":{\"x\":{\"type\":\"field\",\"field\":\"categories\"},\"width\":{\"type\":\"value\",\"value\":0.9},\"top\":{\"type\":\"field\",\"field\":\"values\"},\"line_color\":{\"type\":\"value\",\"value\":\"white\"},\"line_alpha\":{\"type\":\"value\",\"value\":0.1},\"fill_color\":{\"type\":\"field\",\"field\":\"categories\",\"transform\":{\"id\":\"p1069\"}},\"fill_alpha\":{\"type\":\"value\",\"value\":0.1},\"hatch_alpha\":{\"type\":\"value\",\"value\":0.1}}},\"muted_glyph\":{\"type\":\"object\",\"name\":\"VBar\",\"id\":\"p1075\",\"attributes\":{\"x\":{\"type\":\"field\",\"field\":\"categories\"},\"width\":{\"type\":\"value\",\"value\":0.9},\"top\":{\"type\":\"field\",\"field\":\"values\"},\"line_color\":{\"type\":\"value\",\"value\":\"white\"},\"line_alpha\":{\"type\":\"value\",\"value\":0.2},\"fill_color\":{\"type\":\"field\",\"field\":\"categories\",\"transform\":{\"id\":\"p1069\"}},\"fill_alpha\":{\"type\":\"value\",\"value\":0.2},\"hatch_alpha\":{\"type\":\"value\",\"value\":0.2}}}}}],\"toolbar\":{\"type\":\"object\",\"name\":\"Toolbar\",\"id\":\"p1055\",\"attributes\":{\"tools\":[{\"type\":\"object\",\"name\":\"HoverTool\",\"id\":\"p1081\",\"attributes\":{\"renderers\":\"auto\",\"tooltips\":[[\"category\",\"@categories\"],[\"Value\",\"@Values\"]]}}]}},\"left\":[{\"type\":\"object\",\"name\":\"LinearAxis\",\"id\":\"p1064\",\"attributes\":{\"ticker\":{\"type\":\"object\",\"name\":\"BasicTicker\",\"id\":\"p1065\",\"attributes\":{\"mantissas\":[1,2,5]}},\"formatter\":{\"type\":\"object\",\"name\":\"BasicTickFormatter\",\"id\":\"p1066\"},\"axis_label\":\"Values\",\"major_label_policy\":{\"type\":\"object\",\"name\":\"AllLabels\",\"id\":\"p1067\"}}}],\"below\":[{\"type\":\"object\",\"name\":\"CategoricalAxis\",\"id\":\"p1059\",\"attributes\":{\"ticker\":{\"type\":\"object\",\"name\":\"CategoricalTicker\",\"id\":\"p1060\"},\"formatter\":{\"type\":\"object\",\"name\":\"CategoricalTickFormatter\",\"id\":\"p1061\"},\"axis_label\":\"categories\",\"major_label_policy\":{\"type\":\"object\",\"name\":\"AllLabels\",\"id\":\"p1062\"}}}],\"center\":[{\"type\":\"object\",\"name\":\"Grid\",\"id\":\"p1063\",\"attributes\":{\"axis\":{\"id\":\"p1059\"}}},{\"type\":\"object\",\"name\":\"Grid\",\"id\":\"p1068\",\"attributes\":{\"dimension\":1,\"axis\":{\"id\":\"p1064\"}}},{\"type\":\"object\",\"name\":\"Legend\",\"id\":\"p1079\",\"attributes\":{\"location\":\"top_center\",\"orientation\":\"horizontal\",\"title\":\"categories\",\"items\":[{\"type\":\"object\",\"name\":\"LegendItem\",\"id\":\"p1080\",\"attributes\":{\"label\":{\"type\":\"field\",\"field\":\"categories\"},\"renderers\":[{\"id\":\"p1076\"}]}}]}}]}}]}};\n  const render_items = [{\"docid\":\"9a0ea3b5-6c97-4ed9-a36a-572d258a2830\",\"roots\":{\"p1046\":\"e8208a1d-6b83-4247-8bb7-f791908c7445\"},\"root_ids\":[\"p1046\"]}];\n  root.Bokeh.embed.embed_items_notebook(docs_json, render_items);\n  }\n  if (root.Bokeh !== undefined) {\n    embed_document(root);\n  } else {\n    let attempts = 0;\n    const timer = setInterval(function(root) {\n      if (root.Bokeh !== undefined) {\n        clearInterval(timer);\n        embed_document(root);\n      } else {\n        attempts++;\n        if (attempts > 100) {\n          clearInterval(timer);\n          console.log(\"Bokeh: ERROR: Unable to run BokehJS code because BokehJS library is missing\");\n        }\n      }\n    }, 10, root)\n  }\n})(window);",
      "application/vnd.bokehjs_exec.v0+json": ""
     },
     "metadata": {
      "application/vnd.bokehjs_exec.v0+json": {
       "id": "p1046"
      }
     },
     "output_type": "display_data"
    }
   ],
   "source": [
    "import numpy as np\n",
    "import pandas as pd\n",
    "from bokeh.plotting import figure ,show\n",
    "from bokeh.io import output_notebook\n",
    "from bokeh.models import ColumnDataSource,HoverTool\n",
    "from bokeh.transform import factor_cmap\n",
    "from bokeh.palettes import Viridis256\n",
    "\n",
    "# create the random categorical data\n",
    "categories = ['A','B','C','D','E']\n",
    "values = np.random.randint(1,100,size=len(categories))\n",
    "\n",
    "# create a dataframe\n",
    "data = pd.DataFrame({'categories':categories,'values':values})\n",
    "\n",
    "# create a bokeh plot and customize it\n",
    "output_notebook() # display plots in the notebook\n",
    "\n",
    "source = ColumnDataSource(data)\n",
    "\n",
    "p = figure(x_range=categories,title='Random categorical bar chart',\n",
    "           x_axis_label='categories',y_axis_label='Values',tools=\"\")\n",
    "\n",
    "# Color bars based on their values\n",
    "cmap = factor_cmap('categories',palette=Viridis256,factors=categories)\n",
    "\n",
    "# Add bars to the plot\n",
    "p.vbar(x='categories',top= 'values',width=0.9,source=source,legend_field='categories',\n",
    "       line_color = 'white',fill_color = cmap)\n",
    "\n",
    "\n",
    "#add hover tooltips to display exact values\n",
    "hover = HoverTool()\n",
    "hover.tooltips = [('category','@categories'),('Value','@Values')]\n",
    "p.add_tools(hover)\n",
    "\n",
    "#customize the plot\n",
    "p.legend.title = 'categories'\n",
    "p.legend.orientation = 'horizontal'\n",
    "p.legend.location = 'top_center'\n",
    "\n",
    "# show the plot\n",
    "show(p)\n",
    "\n"
   ]
  },
  {
   "cell_type": "markdown",
   "metadata": {},
   "source": [
    "## 20. Using Plotly, create a basic line plot of a randomly generated dataset, label the axes, and set the title as 'Simple Line Plot'"
   ]
  },
  {
   "cell_type": "code",
   "execution_count": 40,
   "metadata": {},
   "outputs": [
    {
     "data": {
      "application/vnd.plotly.v1+json": {
       "config": {
        "plotlyServerURL": "https://plot.ly"
       },
       "data": [
        {
         "mode": "lines",
         "name": "Random Line",
         "type": "scatter",
         "x": [
          0,
          0.10101010101010101,
          0.20202020202020202,
          0.30303030303030304,
          0.40404040404040403,
          0.5050505050505051,
          0.6060606060606061,
          0.7070707070707071,
          0.8080808080808081,
          0.9090909090909091,
          1.0101010101010102,
          1.1111111111111112,
          1.2121212121212122,
          1.3131313131313131,
          1.4141414141414141,
          1.5151515151515151,
          1.6161616161616161,
          1.7171717171717171,
          1.8181818181818181,
          1.9191919191919191,
          2.0202020202020203,
          2.121212121212121,
          2.2222222222222223,
          2.323232323232323,
          2.4242424242424243,
          2.525252525252525,
          2.6262626262626263,
          2.727272727272727,
          2.8282828282828283,
          2.929292929292929,
          3.0303030303030303,
          3.131313131313131,
          3.2323232323232323,
          3.3333333333333335,
          3.4343434343434343,
          3.5353535353535355,
          3.6363636363636362,
          3.7373737373737375,
          3.8383838383838382,
          3.9393939393939394,
          4.040404040404041,
          4.141414141414141,
          4.242424242424242,
          4.343434343434343,
          4.444444444444445,
          4.545454545454545,
          4.646464646464646,
          4.747474747474747,
          4.848484848484849,
          4.94949494949495,
          5.05050505050505,
          5.151515151515151,
          5.252525252525253,
          5.353535353535354,
          5.454545454545454,
          5.555555555555555,
          5.656565656565657,
          5.757575757575758,
          5.858585858585858,
          5.959595959595959,
          6.0606060606060606,
          6.161616161616162,
          6.262626262626262,
          6.363636363636363,
          6.4646464646464645,
          6.565656565656566,
          6.666666666666667,
          6.767676767676767,
          6.8686868686868685,
          6.96969696969697,
          7.070707070707071,
          7.171717171717171,
          7.2727272727272725,
          7.373737373737374,
          7.474747474747475,
          7.575757575757575,
          7.6767676767676765,
          7.777777777777778,
          7.878787878787879,
          7.979797979797979,
          8.080808080808081,
          8.181818181818182,
          8.282828282828282,
          8.383838383838384,
          8.484848484848484,
          8.585858585858587,
          8.686868686868687,
          8.787878787878787,
          8.88888888888889,
          8.98989898989899,
          9.09090909090909,
          9.191919191919192,
          9.292929292929292,
          9.393939393939394,
          9.494949494949495,
          9.595959595959595,
          9.696969696969697,
          9.797979797979798,
          9.8989898989899,
          10
         ],
         "y": [
          1.764052345967664,
          2.1642095543348874,
          3.1429475384406267,
          5.3838407376420845,
          7.251398727792052,
          6.274120847915642,
          7.224209265441231,
          7.072852057143533,
          6.969633205349975,
          7.380231707288347,
          7.524275278449225,
          8.9785487854122,
          9.739586510559192,
          9.86126152705202,
          10.305124759797446,
          10.638799087171712,
          12.132878160329318,
          11.927719896563516,
          12.240787598214418,
          11.386691858912693,
          8.833702043078613,
          9.487320638518973,
          10.35175683737848,
          9.609591816972037,
          11.879346440959644,
          10.424980766360878,
          10.470739283662324,
          10.28355543363649,
          11.816334647994948,
          13.285693417895233,
          13.44064084359215,
          13.818803363194323,
          12.93101761556421,
          10.950221147340283,
          10.60230899801413,
          10.758657967118111,
          11.988948647845833,
          13.191328496630245,
          12.804001679222292,
          12.501698928646956,
          11.453145963579864,
          10.033128026400888,
          8.326857835775876,
          10.277633231007666,
          9.767981049256013,
          9.329906747644827,
          8.0771113875949,
          8.85460174342681,
          7.240703895868859,
          7.02796361565489,
          6.132497054461215,
          6.519399552320477,
          6.008594414751604,
          4.827962230629192,
          4.799780002290537,
          5.228111872820954,
          5.294629095204122,
          5.597100992943904,
          4.962778899262941,
          4.600037733275802,
          3.927577285499851,
          3.56802412395931,
          2.7548778419148556,
          1.0285952395831788,
          1.2060213818369316,
          0.8042404456286698,
          -0.8259579013373748,
          -0.3631756458116006,
          -1.2704740101948429,
          -1.218528614398704,
          -0.4894380522211671,
          -0.36045514146375646,
          0.7789455430795442,
          -0.4558802772741084,
          -0.0535386360965594,
          -0.7383487270368726,
          -1.6091458762187543,
          -2.1879955409831697,
          -2.4995480731105424,
          -2.443382730880797,
          -3.6085325716641536,
          -2.7077060847099665,
          -2.242043644979507,
          -3.7782873312567307,
          -2.290035137461131,
          -0.3941459614305478,
          0.7846336097291029,
          0.604708773916752,
          -0.4660438475937905,
          0.5884078793373462,
          0.18523093236416655,
          1.407676002746594,
          1.6159509808234542,
          2.5925900173071668,
          2.9489564144815685,
          3.6555295826735166,
          3.666029603394337,
          5.4519000973001726,
          5.578812190003792,
          5.980801553448494
         ]
        }
       ],
       "layout": {
        "template": {
         "data": {
          "bar": [
           {
            "error_x": {
             "color": "#2a3f5f"
            },
            "error_y": {
             "color": "#2a3f5f"
            },
            "marker": {
             "line": {
              "color": "#E5ECF6",
              "width": 0.5
             },
             "pattern": {
              "fillmode": "overlay",
              "size": 10,
              "solidity": 0.2
             }
            },
            "type": "bar"
           }
          ],
          "barpolar": [
           {
            "marker": {
             "line": {
              "color": "#E5ECF6",
              "width": 0.5
             },
             "pattern": {
              "fillmode": "overlay",
              "size": 10,
              "solidity": 0.2
             }
            },
            "type": "barpolar"
           }
          ],
          "carpet": [
           {
            "aaxis": {
             "endlinecolor": "#2a3f5f",
             "gridcolor": "white",
             "linecolor": "white",
             "minorgridcolor": "white",
             "startlinecolor": "#2a3f5f"
            },
            "baxis": {
             "endlinecolor": "#2a3f5f",
             "gridcolor": "white",
             "linecolor": "white",
             "minorgridcolor": "white",
             "startlinecolor": "#2a3f5f"
            },
            "type": "carpet"
           }
          ],
          "choropleth": [
           {
            "colorbar": {
             "outlinewidth": 0,
             "ticks": ""
            },
            "type": "choropleth"
           }
          ],
          "contour": [
           {
            "colorbar": {
             "outlinewidth": 0,
             "ticks": ""
            },
            "colorscale": [
             [
              0,
              "#0d0887"
             ],
             [
              0.1111111111111111,
              "#46039f"
             ],
             [
              0.2222222222222222,
              "#7201a8"
             ],
             [
              0.3333333333333333,
              "#9c179e"
             ],
             [
              0.4444444444444444,
              "#bd3786"
             ],
             [
              0.5555555555555556,
              "#d8576b"
             ],
             [
              0.6666666666666666,
              "#ed7953"
             ],
             [
              0.7777777777777778,
              "#fb9f3a"
             ],
             [
              0.8888888888888888,
              "#fdca26"
             ],
             [
              1,
              "#f0f921"
             ]
            ],
            "type": "contour"
           }
          ],
          "contourcarpet": [
           {
            "colorbar": {
             "outlinewidth": 0,
             "ticks": ""
            },
            "type": "contourcarpet"
           }
          ],
          "heatmap": [
           {
            "colorbar": {
             "outlinewidth": 0,
             "ticks": ""
            },
            "colorscale": [
             [
              0,
              "#0d0887"
             ],
             [
              0.1111111111111111,
              "#46039f"
             ],
             [
              0.2222222222222222,
              "#7201a8"
             ],
             [
              0.3333333333333333,
              "#9c179e"
             ],
             [
              0.4444444444444444,
              "#bd3786"
             ],
             [
              0.5555555555555556,
              "#d8576b"
             ],
             [
              0.6666666666666666,
              "#ed7953"
             ],
             [
              0.7777777777777778,
              "#fb9f3a"
             ],
             [
              0.8888888888888888,
              "#fdca26"
             ],
             [
              1,
              "#f0f921"
             ]
            ],
            "type": "heatmap"
           }
          ],
          "heatmapgl": [
           {
            "colorbar": {
             "outlinewidth": 0,
             "ticks": ""
            },
            "colorscale": [
             [
              0,
              "#0d0887"
             ],
             [
              0.1111111111111111,
              "#46039f"
             ],
             [
              0.2222222222222222,
              "#7201a8"
             ],
             [
              0.3333333333333333,
              "#9c179e"
             ],
             [
              0.4444444444444444,
              "#bd3786"
             ],
             [
              0.5555555555555556,
              "#d8576b"
             ],
             [
              0.6666666666666666,
              "#ed7953"
             ],
             [
              0.7777777777777778,
              "#fb9f3a"
             ],
             [
              0.8888888888888888,
              "#fdca26"
             ],
             [
              1,
              "#f0f921"
             ]
            ],
            "type": "heatmapgl"
           }
          ],
          "histogram": [
           {
            "marker": {
             "pattern": {
              "fillmode": "overlay",
              "size": 10,
              "solidity": 0.2
             }
            },
            "type": "histogram"
           }
          ],
          "histogram2d": [
           {
            "colorbar": {
             "outlinewidth": 0,
             "ticks": ""
            },
            "colorscale": [
             [
              0,
              "#0d0887"
             ],
             [
              0.1111111111111111,
              "#46039f"
             ],
             [
              0.2222222222222222,
              "#7201a8"
             ],
             [
              0.3333333333333333,
              "#9c179e"
             ],
             [
              0.4444444444444444,
              "#bd3786"
             ],
             [
              0.5555555555555556,
              "#d8576b"
             ],
             [
              0.6666666666666666,
              "#ed7953"
             ],
             [
              0.7777777777777778,
              "#fb9f3a"
             ],
             [
              0.8888888888888888,
              "#fdca26"
             ],
             [
              1,
              "#f0f921"
             ]
            ],
            "type": "histogram2d"
           }
          ],
          "histogram2dcontour": [
           {
            "colorbar": {
             "outlinewidth": 0,
             "ticks": ""
            },
            "colorscale": [
             [
              0,
              "#0d0887"
             ],
             [
              0.1111111111111111,
              "#46039f"
             ],
             [
              0.2222222222222222,
              "#7201a8"
             ],
             [
              0.3333333333333333,
              "#9c179e"
             ],
             [
              0.4444444444444444,
              "#bd3786"
             ],
             [
              0.5555555555555556,
              "#d8576b"
             ],
             [
              0.6666666666666666,
              "#ed7953"
             ],
             [
              0.7777777777777778,
              "#fb9f3a"
             ],
             [
              0.8888888888888888,
              "#fdca26"
             ],
             [
              1,
              "#f0f921"
             ]
            ],
            "type": "histogram2dcontour"
           }
          ],
          "mesh3d": [
           {
            "colorbar": {
             "outlinewidth": 0,
             "ticks": ""
            },
            "type": "mesh3d"
           }
          ],
          "parcoords": [
           {
            "line": {
             "colorbar": {
              "outlinewidth": 0,
              "ticks": ""
             }
            },
            "type": "parcoords"
           }
          ],
          "pie": [
           {
            "automargin": true,
            "type": "pie"
           }
          ],
          "scatter": [
           {
            "fillpattern": {
             "fillmode": "overlay",
             "size": 10,
             "solidity": 0.2
            },
            "type": "scatter"
           }
          ],
          "scatter3d": [
           {
            "line": {
             "colorbar": {
              "outlinewidth": 0,
              "ticks": ""
             }
            },
            "marker": {
             "colorbar": {
              "outlinewidth": 0,
              "ticks": ""
             }
            },
            "type": "scatter3d"
           }
          ],
          "scattercarpet": [
           {
            "marker": {
             "colorbar": {
              "outlinewidth": 0,
              "ticks": ""
             }
            },
            "type": "scattercarpet"
           }
          ],
          "scattergeo": [
           {
            "marker": {
             "colorbar": {
              "outlinewidth": 0,
              "ticks": ""
             }
            },
            "type": "scattergeo"
           }
          ],
          "scattergl": [
           {
            "marker": {
             "colorbar": {
              "outlinewidth": 0,
              "ticks": ""
             }
            },
            "type": "scattergl"
           }
          ],
          "scattermapbox": [
           {
            "marker": {
             "colorbar": {
              "outlinewidth": 0,
              "ticks": ""
             }
            },
            "type": "scattermapbox"
           }
          ],
          "scatterpolar": [
           {
            "marker": {
             "colorbar": {
              "outlinewidth": 0,
              "ticks": ""
             }
            },
            "type": "scatterpolar"
           }
          ],
          "scatterpolargl": [
           {
            "marker": {
             "colorbar": {
              "outlinewidth": 0,
              "ticks": ""
             }
            },
            "type": "scatterpolargl"
           }
          ],
          "scatterternary": [
           {
            "marker": {
             "colorbar": {
              "outlinewidth": 0,
              "ticks": ""
             }
            },
            "type": "scatterternary"
           }
          ],
          "surface": [
           {
            "colorbar": {
             "outlinewidth": 0,
             "ticks": ""
            },
            "colorscale": [
             [
              0,
              "#0d0887"
             ],
             [
              0.1111111111111111,
              "#46039f"
             ],
             [
              0.2222222222222222,
              "#7201a8"
             ],
             [
              0.3333333333333333,
              "#9c179e"
             ],
             [
              0.4444444444444444,
              "#bd3786"
             ],
             [
              0.5555555555555556,
              "#d8576b"
             ],
             [
              0.6666666666666666,
              "#ed7953"
             ],
             [
              0.7777777777777778,
              "#fb9f3a"
             ],
             [
              0.8888888888888888,
              "#fdca26"
             ],
             [
              1,
              "#f0f921"
             ]
            ],
            "type": "surface"
           }
          ],
          "table": [
           {
            "cells": {
             "fill": {
              "color": "#EBF0F8"
             },
             "line": {
              "color": "white"
             }
            },
            "header": {
             "fill": {
              "color": "#C8D4E3"
             },
             "line": {
              "color": "white"
             }
            },
            "type": "table"
           }
          ]
         },
         "layout": {
          "annotationdefaults": {
           "arrowcolor": "#2a3f5f",
           "arrowhead": 0,
           "arrowwidth": 1
          },
          "autotypenumbers": "strict",
          "coloraxis": {
           "colorbar": {
            "outlinewidth": 0,
            "ticks": ""
           }
          },
          "colorscale": {
           "diverging": [
            [
             0,
             "#8e0152"
            ],
            [
             0.1,
             "#c51b7d"
            ],
            [
             0.2,
             "#de77ae"
            ],
            [
             0.3,
             "#f1b6da"
            ],
            [
             0.4,
             "#fde0ef"
            ],
            [
             0.5,
             "#f7f7f7"
            ],
            [
             0.6,
             "#e6f5d0"
            ],
            [
             0.7,
             "#b8e186"
            ],
            [
             0.8,
             "#7fbc41"
            ],
            [
             0.9,
             "#4d9221"
            ],
            [
             1,
             "#276419"
            ]
           ],
           "sequential": [
            [
             0,
             "#0d0887"
            ],
            [
             0.1111111111111111,
             "#46039f"
            ],
            [
             0.2222222222222222,
             "#7201a8"
            ],
            [
             0.3333333333333333,
             "#9c179e"
            ],
            [
             0.4444444444444444,
             "#bd3786"
            ],
            [
             0.5555555555555556,
             "#d8576b"
            ],
            [
             0.6666666666666666,
             "#ed7953"
            ],
            [
             0.7777777777777778,
             "#fb9f3a"
            ],
            [
             0.8888888888888888,
             "#fdca26"
            ],
            [
             1,
             "#f0f921"
            ]
           ],
           "sequentialminus": [
            [
             0,
             "#0d0887"
            ],
            [
             0.1111111111111111,
             "#46039f"
            ],
            [
             0.2222222222222222,
             "#7201a8"
            ],
            [
             0.3333333333333333,
             "#9c179e"
            ],
            [
             0.4444444444444444,
             "#bd3786"
            ],
            [
             0.5555555555555556,
             "#d8576b"
            ],
            [
             0.6666666666666666,
             "#ed7953"
            ],
            [
             0.7777777777777778,
             "#fb9f3a"
            ],
            [
             0.8888888888888888,
             "#fdca26"
            ],
            [
             1,
             "#f0f921"
            ]
           ]
          },
          "colorway": [
           "#636efa",
           "#EF553B",
           "#00cc96",
           "#ab63fa",
           "#FFA15A",
           "#19d3f3",
           "#FF6692",
           "#B6E880",
           "#FF97FF",
           "#FECB52"
          ],
          "font": {
           "color": "#2a3f5f"
          },
          "geo": {
           "bgcolor": "white",
           "lakecolor": "white",
           "landcolor": "#E5ECF6",
           "showlakes": true,
           "showland": true,
           "subunitcolor": "white"
          },
          "hoverlabel": {
           "align": "left"
          },
          "hovermode": "closest",
          "mapbox": {
           "style": "light"
          },
          "paper_bgcolor": "white",
          "plot_bgcolor": "#E5ECF6",
          "polar": {
           "angularaxis": {
            "gridcolor": "white",
            "linecolor": "white",
            "ticks": ""
           },
           "bgcolor": "#E5ECF6",
           "radialaxis": {
            "gridcolor": "white",
            "linecolor": "white",
            "ticks": ""
           }
          },
          "scene": {
           "xaxis": {
            "backgroundcolor": "#E5ECF6",
            "gridcolor": "white",
            "gridwidth": 2,
            "linecolor": "white",
            "showbackground": true,
            "ticks": "",
            "zerolinecolor": "white"
           },
           "yaxis": {
            "backgroundcolor": "#E5ECF6",
            "gridcolor": "white",
            "gridwidth": 2,
            "linecolor": "white",
            "showbackground": true,
            "ticks": "",
            "zerolinecolor": "white"
           },
           "zaxis": {
            "backgroundcolor": "#E5ECF6",
            "gridcolor": "white",
            "gridwidth": 2,
            "linecolor": "white",
            "showbackground": true,
            "ticks": "",
            "zerolinecolor": "white"
           }
          },
          "shapedefaults": {
           "line": {
            "color": "#2a3f5f"
           }
          },
          "ternary": {
           "aaxis": {
            "gridcolor": "white",
            "linecolor": "white",
            "ticks": ""
           },
           "baxis": {
            "gridcolor": "white",
            "linecolor": "white",
            "ticks": ""
           },
           "bgcolor": "#E5ECF6",
           "caxis": {
            "gridcolor": "white",
            "linecolor": "white",
            "ticks": ""
           }
          },
          "title": {
           "x": 0.05
          },
          "xaxis": {
           "automargin": true,
           "gridcolor": "white",
           "linecolor": "white",
           "ticks": "",
           "title": {
            "standoff": 15
           },
           "zerolinecolor": "white",
           "zerolinewidth": 2
          },
          "yaxis": {
           "automargin": true,
           "gridcolor": "white",
           "linecolor": "white",
           "ticks": "",
           "title": {
            "standoff": 15
           },
           "zerolinecolor": "white",
           "zerolinewidth": 2
          }
         }
        },
        "title": {
         "text": "Simple Line Plot"
        },
        "xaxis": {
         "title": {
          "text": "X-axis"
         }
        },
        "yaxis": {
         "title": {
          "text": "Y-axis"
         }
        }
       }
      }
     },
     "metadata": {},
     "output_type": "display_data"
    }
   ],
   "source": [
    "import numpy as np\n",
    "import plotly.graph_objects as go\n",
    "\n",
    "# Step 2: Generate random dataset\n",
    "np.random.seed(0)  # For reproducibility\n",
    "x = np.linspace(0, 10, 100)\n",
    "y = np.random.randn(100).cumsum()  # Cumulative sum to make the line plot more interesting\n",
    "\n",
    "# Step 3: Create the line plot\n",
    "fig = go.Figure()\n",
    "\n",
    "# Step 4: Add line trace\n",
    "fig.add_trace(go.Scatter(x=x, y=y, mode='lines', name='Random Line'))\n",
    "\n",
    "# Step 5: Label the axes and set the title\n",
    "fig.update_layout(\n",
    "    title='Simple Line Plot',\n",
    "    xaxis_title='X-axis',\n",
    "    yaxis_title='Y-axis'\n",
    ")\n",
    "\n",
    "# Display the plot\n",
    "fig.show()\n"
   ]
  },
  {
   "cell_type": "markdown",
   "metadata": {},
   "source": [
    "## 21.Using Plotly, create an interactive pie chart of randomly generated data, add labels and percentages, set the title as 'Interactive Pie Chart'."
   ]
  },
  {
   "cell_type": "code",
   "execution_count": 41,
   "metadata": {},
   "outputs": [
    {
     "data": {
      "application/vnd.plotly.v1+json": {
       "config": {
        "plotlyServerURL": "https://plot.ly"
       },
       "data": [
        {
         "hoverinfo": "label+percent",
         "labels": [
          "Category A",
          "Category B",
          "Category C",
          "Category D",
          "Category E"
         ],
         "textinfo": "label+percent",
         "type": "pie",
         "values": [
          33,
          71,
          86,
          32,
          14
         ]
        }
       ],
       "layout": {
        "template": {
         "data": {
          "bar": [
           {
            "error_x": {
             "color": "#2a3f5f"
            },
            "error_y": {
             "color": "#2a3f5f"
            },
            "marker": {
             "line": {
              "color": "#E5ECF6",
              "width": 0.5
             },
             "pattern": {
              "fillmode": "overlay",
              "size": 10,
              "solidity": 0.2
             }
            },
            "type": "bar"
           }
          ],
          "barpolar": [
           {
            "marker": {
             "line": {
              "color": "#E5ECF6",
              "width": 0.5
             },
             "pattern": {
              "fillmode": "overlay",
              "size": 10,
              "solidity": 0.2
             }
            },
            "type": "barpolar"
           }
          ],
          "carpet": [
           {
            "aaxis": {
             "endlinecolor": "#2a3f5f",
             "gridcolor": "white",
             "linecolor": "white",
             "minorgridcolor": "white",
             "startlinecolor": "#2a3f5f"
            },
            "baxis": {
             "endlinecolor": "#2a3f5f",
             "gridcolor": "white",
             "linecolor": "white",
             "minorgridcolor": "white",
             "startlinecolor": "#2a3f5f"
            },
            "type": "carpet"
           }
          ],
          "choropleth": [
           {
            "colorbar": {
             "outlinewidth": 0,
             "ticks": ""
            },
            "type": "choropleth"
           }
          ],
          "contour": [
           {
            "colorbar": {
             "outlinewidth": 0,
             "ticks": ""
            },
            "colorscale": [
             [
              0,
              "#0d0887"
             ],
             [
              0.1111111111111111,
              "#46039f"
             ],
             [
              0.2222222222222222,
              "#7201a8"
             ],
             [
              0.3333333333333333,
              "#9c179e"
             ],
             [
              0.4444444444444444,
              "#bd3786"
             ],
             [
              0.5555555555555556,
              "#d8576b"
             ],
             [
              0.6666666666666666,
              "#ed7953"
             ],
             [
              0.7777777777777778,
              "#fb9f3a"
             ],
             [
              0.8888888888888888,
              "#fdca26"
             ],
             [
              1,
              "#f0f921"
             ]
            ],
            "type": "contour"
           }
          ],
          "contourcarpet": [
           {
            "colorbar": {
             "outlinewidth": 0,
             "ticks": ""
            },
            "type": "contourcarpet"
           }
          ],
          "heatmap": [
           {
            "colorbar": {
             "outlinewidth": 0,
             "ticks": ""
            },
            "colorscale": [
             [
              0,
              "#0d0887"
             ],
             [
              0.1111111111111111,
              "#46039f"
             ],
             [
              0.2222222222222222,
              "#7201a8"
             ],
             [
              0.3333333333333333,
              "#9c179e"
             ],
             [
              0.4444444444444444,
              "#bd3786"
             ],
             [
              0.5555555555555556,
              "#d8576b"
             ],
             [
              0.6666666666666666,
              "#ed7953"
             ],
             [
              0.7777777777777778,
              "#fb9f3a"
             ],
             [
              0.8888888888888888,
              "#fdca26"
             ],
             [
              1,
              "#f0f921"
             ]
            ],
            "type": "heatmap"
           }
          ],
          "heatmapgl": [
           {
            "colorbar": {
             "outlinewidth": 0,
             "ticks": ""
            },
            "colorscale": [
             [
              0,
              "#0d0887"
             ],
             [
              0.1111111111111111,
              "#46039f"
             ],
             [
              0.2222222222222222,
              "#7201a8"
             ],
             [
              0.3333333333333333,
              "#9c179e"
             ],
             [
              0.4444444444444444,
              "#bd3786"
             ],
             [
              0.5555555555555556,
              "#d8576b"
             ],
             [
              0.6666666666666666,
              "#ed7953"
             ],
             [
              0.7777777777777778,
              "#fb9f3a"
             ],
             [
              0.8888888888888888,
              "#fdca26"
             ],
             [
              1,
              "#f0f921"
             ]
            ],
            "type": "heatmapgl"
           }
          ],
          "histogram": [
           {
            "marker": {
             "pattern": {
              "fillmode": "overlay",
              "size": 10,
              "solidity": 0.2
             }
            },
            "type": "histogram"
           }
          ],
          "histogram2d": [
           {
            "colorbar": {
             "outlinewidth": 0,
             "ticks": ""
            },
            "colorscale": [
             [
              0,
              "#0d0887"
             ],
             [
              0.1111111111111111,
              "#46039f"
             ],
             [
              0.2222222222222222,
              "#7201a8"
             ],
             [
              0.3333333333333333,
              "#9c179e"
             ],
             [
              0.4444444444444444,
              "#bd3786"
             ],
             [
              0.5555555555555556,
              "#d8576b"
             ],
             [
              0.6666666666666666,
              "#ed7953"
             ],
             [
              0.7777777777777778,
              "#fb9f3a"
             ],
             [
              0.8888888888888888,
              "#fdca26"
             ],
             [
              1,
              "#f0f921"
             ]
            ],
            "type": "histogram2d"
           }
          ],
          "histogram2dcontour": [
           {
            "colorbar": {
             "outlinewidth": 0,
             "ticks": ""
            },
            "colorscale": [
             [
              0,
              "#0d0887"
             ],
             [
              0.1111111111111111,
              "#46039f"
             ],
             [
              0.2222222222222222,
              "#7201a8"
             ],
             [
              0.3333333333333333,
              "#9c179e"
             ],
             [
              0.4444444444444444,
              "#bd3786"
             ],
             [
              0.5555555555555556,
              "#d8576b"
             ],
             [
              0.6666666666666666,
              "#ed7953"
             ],
             [
              0.7777777777777778,
              "#fb9f3a"
             ],
             [
              0.8888888888888888,
              "#fdca26"
             ],
             [
              1,
              "#f0f921"
             ]
            ],
            "type": "histogram2dcontour"
           }
          ],
          "mesh3d": [
           {
            "colorbar": {
             "outlinewidth": 0,
             "ticks": ""
            },
            "type": "mesh3d"
           }
          ],
          "parcoords": [
           {
            "line": {
             "colorbar": {
              "outlinewidth": 0,
              "ticks": ""
             }
            },
            "type": "parcoords"
           }
          ],
          "pie": [
           {
            "automargin": true,
            "type": "pie"
           }
          ],
          "scatter": [
           {
            "fillpattern": {
             "fillmode": "overlay",
             "size": 10,
             "solidity": 0.2
            },
            "type": "scatter"
           }
          ],
          "scatter3d": [
           {
            "line": {
             "colorbar": {
              "outlinewidth": 0,
              "ticks": ""
             }
            },
            "marker": {
             "colorbar": {
              "outlinewidth": 0,
              "ticks": ""
             }
            },
            "type": "scatter3d"
           }
          ],
          "scattercarpet": [
           {
            "marker": {
             "colorbar": {
              "outlinewidth": 0,
              "ticks": ""
             }
            },
            "type": "scattercarpet"
           }
          ],
          "scattergeo": [
           {
            "marker": {
             "colorbar": {
              "outlinewidth": 0,
              "ticks": ""
             }
            },
            "type": "scattergeo"
           }
          ],
          "scattergl": [
           {
            "marker": {
             "colorbar": {
              "outlinewidth": 0,
              "ticks": ""
             }
            },
            "type": "scattergl"
           }
          ],
          "scattermapbox": [
           {
            "marker": {
             "colorbar": {
              "outlinewidth": 0,
              "ticks": ""
             }
            },
            "type": "scattermapbox"
           }
          ],
          "scatterpolar": [
           {
            "marker": {
             "colorbar": {
              "outlinewidth": 0,
              "ticks": ""
             }
            },
            "type": "scatterpolar"
           }
          ],
          "scatterpolargl": [
           {
            "marker": {
             "colorbar": {
              "outlinewidth": 0,
              "ticks": ""
             }
            },
            "type": "scatterpolargl"
           }
          ],
          "scatterternary": [
           {
            "marker": {
             "colorbar": {
              "outlinewidth": 0,
              "ticks": ""
             }
            },
            "type": "scatterternary"
           }
          ],
          "surface": [
           {
            "colorbar": {
             "outlinewidth": 0,
             "ticks": ""
            },
            "colorscale": [
             [
              0,
              "#0d0887"
             ],
             [
              0.1111111111111111,
              "#46039f"
             ],
             [
              0.2222222222222222,
              "#7201a8"
             ],
             [
              0.3333333333333333,
              "#9c179e"
             ],
             [
              0.4444444444444444,
              "#bd3786"
             ],
             [
              0.5555555555555556,
              "#d8576b"
             ],
             [
              0.6666666666666666,
              "#ed7953"
             ],
             [
              0.7777777777777778,
              "#fb9f3a"
             ],
             [
              0.8888888888888888,
              "#fdca26"
             ],
             [
              1,
              "#f0f921"
             ]
            ],
            "type": "surface"
           }
          ],
          "table": [
           {
            "cells": {
             "fill": {
              "color": "#EBF0F8"
             },
             "line": {
              "color": "white"
             }
            },
            "header": {
             "fill": {
              "color": "#C8D4E3"
             },
             "line": {
              "color": "white"
             }
            },
            "type": "table"
           }
          ]
         },
         "layout": {
          "annotationdefaults": {
           "arrowcolor": "#2a3f5f",
           "arrowhead": 0,
           "arrowwidth": 1
          },
          "autotypenumbers": "strict",
          "coloraxis": {
           "colorbar": {
            "outlinewidth": 0,
            "ticks": ""
           }
          },
          "colorscale": {
           "diverging": [
            [
             0,
             "#8e0152"
            ],
            [
             0.1,
             "#c51b7d"
            ],
            [
             0.2,
             "#de77ae"
            ],
            [
             0.3,
             "#f1b6da"
            ],
            [
             0.4,
             "#fde0ef"
            ],
            [
             0.5,
             "#f7f7f7"
            ],
            [
             0.6,
             "#e6f5d0"
            ],
            [
             0.7,
             "#b8e186"
            ],
            [
             0.8,
             "#7fbc41"
            ],
            [
             0.9,
             "#4d9221"
            ],
            [
             1,
             "#276419"
            ]
           ],
           "sequential": [
            [
             0,
             "#0d0887"
            ],
            [
             0.1111111111111111,
             "#46039f"
            ],
            [
             0.2222222222222222,
             "#7201a8"
            ],
            [
             0.3333333333333333,
             "#9c179e"
            ],
            [
             0.4444444444444444,
             "#bd3786"
            ],
            [
             0.5555555555555556,
             "#d8576b"
            ],
            [
             0.6666666666666666,
             "#ed7953"
            ],
            [
             0.7777777777777778,
             "#fb9f3a"
            ],
            [
             0.8888888888888888,
             "#fdca26"
            ],
            [
             1,
             "#f0f921"
            ]
           ],
           "sequentialminus": [
            [
             0,
             "#0d0887"
            ],
            [
             0.1111111111111111,
             "#46039f"
            ],
            [
             0.2222222222222222,
             "#7201a8"
            ],
            [
             0.3333333333333333,
             "#9c179e"
            ],
            [
             0.4444444444444444,
             "#bd3786"
            ],
            [
             0.5555555555555556,
             "#d8576b"
            ],
            [
             0.6666666666666666,
             "#ed7953"
            ],
            [
             0.7777777777777778,
             "#fb9f3a"
            ],
            [
             0.8888888888888888,
             "#fdca26"
            ],
            [
             1,
             "#f0f921"
            ]
           ]
          },
          "colorway": [
           "#636efa",
           "#EF553B",
           "#00cc96",
           "#ab63fa",
           "#FFA15A",
           "#19d3f3",
           "#FF6692",
           "#B6E880",
           "#FF97FF",
           "#FECB52"
          ],
          "font": {
           "color": "#2a3f5f"
          },
          "geo": {
           "bgcolor": "white",
           "lakecolor": "white",
           "landcolor": "#E5ECF6",
           "showlakes": true,
           "showland": true,
           "subunitcolor": "white"
          },
          "hoverlabel": {
           "align": "left"
          },
          "hovermode": "closest",
          "mapbox": {
           "style": "light"
          },
          "paper_bgcolor": "white",
          "plot_bgcolor": "#E5ECF6",
          "polar": {
           "angularaxis": {
            "gridcolor": "white",
            "linecolor": "white",
            "ticks": ""
           },
           "bgcolor": "#E5ECF6",
           "radialaxis": {
            "gridcolor": "white",
            "linecolor": "white",
            "ticks": ""
           }
          },
          "scene": {
           "xaxis": {
            "backgroundcolor": "#E5ECF6",
            "gridcolor": "white",
            "gridwidth": 2,
            "linecolor": "white",
            "showbackground": true,
            "ticks": "",
            "zerolinecolor": "white"
           },
           "yaxis": {
            "backgroundcolor": "#E5ECF6",
            "gridcolor": "white",
            "gridwidth": 2,
            "linecolor": "white",
            "showbackground": true,
            "ticks": "",
            "zerolinecolor": "white"
           },
           "zaxis": {
            "backgroundcolor": "#E5ECF6",
            "gridcolor": "white",
            "gridwidth": 2,
            "linecolor": "white",
            "showbackground": true,
            "ticks": "",
            "zerolinecolor": "white"
           }
          },
          "shapedefaults": {
           "line": {
            "color": "#2a3f5f"
           }
          },
          "ternary": {
           "aaxis": {
            "gridcolor": "white",
            "linecolor": "white",
            "ticks": ""
           },
           "baxis": {
            "gridcolor": "white",
            "linecolor": "white",
            "ticks": ""
           },
           "bgcolor": "#E5ECF6",
           "caxis": {
            "gridcolor": "white",
            "linecolor": "white",
            "ticks": ""
           }
          },
          "title": {
           "x": 0.05
          },
          "xaxis": {
           "automargin": true,
           "gridcolor": "white",
           "linecolor": "white",
           "ticks": "",
           "title": {
            "standoff": 15
           },
           "zerolinecolor": "white",
           "zerolinewidth": 2
          },
          "yaxis": {
           "automargin": true,
           "gridcolor": "white",
           "linecolor": "white",
           "ticks": "",
           "title": {
            "standoff": 15
           },
           "zerolinecolor": "white",
           "zerolinewidth": 2
          }
         }
        },
        "title": {
         "text": "Interactive Pie Chart"
        }
       }
      }
     },
     "metadata": {},
     "output_type": "display_data"
    }
   ],
   "source": [
    "import numpy as np\n",
    "import plotly.graph_objects as go\n",
    "\n",
    "# Step 2: Generate random data\n",
    "labels = ['Category A', 'Category B', 'Category C', 'Category D', 'Category E']\n",
    "values = np.random.randint(1, 100, size=len(labels))\n",
    "\n",
    "# Step 3: Create the pie chart\n",
    "fig = go.Figure(data=[go.Pie(labels=labels, values=values, \n",
    "                             hoverinfo='label+percent', textinfo='label+percent')])\n",
    "\n",
    "# Step 4: Set the title\n",
    "fig.update_layout(title_text='Interactive Pie Chart')\n",
    "\n",
    "# Step 5: Display the pie chart\n",
    "fig.show()\n"
   ]
  },
  {
   "cell_type": "code",
   "execution_count": null,
   "metadata": {},
   "outputs": [],
   "source": []
  }
 ],
 "metadata": {
  "kernelspec": {
   "display_name": "base",
   "language": "python",
   "name": "python3"
  },
  "language_info": {
   "codemirror_mode": {
    "name": "ipython",
    "version": 3
   },
   "file_extension": ".py",
   "mimetype": "text/x-python",
   "name": "python",
   "nbconvert_exporter": "python",
   "pygments_lexer": "ipython3",
   "version": "3.11.5"
  }
 },
 "nbformat": 4,
 "nbformat_minor": 2
}
